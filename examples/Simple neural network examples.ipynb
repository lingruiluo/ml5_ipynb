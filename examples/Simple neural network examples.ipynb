{
 "cells": [
  {
   "cell_type": "markdown",
   "metadata": {},
   "source": [
    "# Two Simple Neural Network Examples\n",
    "\n",
    "This notebook introduces two examples showing how to create a simple neural network for classification: color classification and left-right classification. The dataset used here are self-created and very small, therefore, it only gives you an idea of how to start. These two examples can refer to neural network section at `ml5.js`"
   ]
  },
  {
   "cell_type": "code",
   "execution_count": 1,
   "metadata": {},
   "outputs": [],
   "source": [
    "from ml5_ipynb import ml5_nn"
   ]
  },
  {
   "cell_type": "markdown",
   "metadata": {},
   "source": [
    "### Simple Color Classification  \n",
    "\n",
    "This example will take rbg values as inputs and color name as outputs. The format is showned below:\n",
    "- x: {'r':255, 'g':1, 'b':0}\n",
    "- y: 'color': red-ish\n",
    "\n",
    "The steps to create a neural network:\n",
    "1. create a network object  \n",
    "2. set up options for the network \n",
    "3. initialize the network \n",
    "4. feed in the data\n",
    "5. train the network  \n",
    "6. classify on new data"
   ]
  },
  {
   "cell_type": "code",
   "execution_count": 2,
   "metadata": {},
   "outputs": [
    {
     "data": {
      "application/vnd.jupyter.widget-view+json": {
       "model_id": "ce73143b2e654467bbb0529cc3dcd7b6",
       "version_major": 2,
       "version_minor": 0
      },
      "text/plain": [
       "VBox(children=(neuralNetwork(status='deferring flush until render'), Text(value='deferring flush until render'…"
      ]
     },
     "metadata": {},
     "output_type": "display_data"
    },
    {
     "name": "stdout",
     "output_type": "stream",
     "text": [
      "......Model is created\n"
     ]
    }
   ],
   "source": [
    "nn = ml5_nn.neuralNetwork() # create network object\n",
    "nn.options['debug']=True\n",
    "nn.options['task']='classification' # set the task to classification\n",
    "nn.initialize_framework() # initialize the framework of the network"
   ]
  },
  {
   "cell_type": "markdown",
   "metadata": {},
   "source": [
    "After initialize the network, we can add data samples to it. There are six samples with three samples for each of two colors (red and blue). The function `add_data(input, output)` is used to add samples to the network. What need to be carefully is that the format of both inputs and outputs should be in a dictionary or json.   \n",
    "For example, \n",
    "- input: `{'r': 255, 'g': 1, 'b': 0}`\n",
    "- output: `{'color': 'red-ish'}`"
   ]
  },
  {
   "cell_type": "code",
   "execution_count": 3,
   "metadata": {},
   "outputs": [],
   "source": [
    "# prepare the dataset\n",
    "data = [\n",
    "  {'r':255, 'g':1, 'b':0, 'color':'red-ish'},\n",
    "  {'r':254, 'g':0, 'b':0, 'color':'red-ish'},\n",
    "  {'r':253, 'g':0, 'b':0, 'color':'red-ish'},\n",
    "  {'r':0, 'g':0, 'b':255, 'color':'blue-ish'},\n",
    "  {'r':0, 'g':0, 'b':254, 'color':'blue-ish'},\n",
    "  {'r':0, 'g':0, 'b':253, 'color':'blue-ish'},\n",
    "]"
   ]
  },
  {
   "cell_type": "code",
   "execution_count": 4,
   "metadata": {},
   "outputs": [],
   "source": [
    "# feed data into the network\n",
    "for d in data:\n",
    "    i = {'r':d['r'], 'g': d['g'], 'b': d['b']}\n",
    "    o = {'color': d['color']}\n",
    "    nn.add_data(i,o)"
   ]
  },
  {
   "cell_type": "markdown",
   "metadata": {},
   "source": [
    "Normalization is an option before training which is to scale the data at the same level, leading network easier to converge. We set a small value for epochs and batch size."
   ]
  },
  {
   "cell_type": "code",
   "execution_count": 5,
   "metadata": {},
   "outputs": [
    {
     "name": "stdout",
     "output_type": "stream",
     "text": [
      ".....................done\n"
     ]
    }
   ],
   "source": [
    "nn.normalize_data()\n",
    "trainingOptions = {\n",
    "  'epochs': 20,\n",
    "  'batchSize': 1\n",
    "}\n",
    "nn.train_data(trainingOptions)"
   ]
  },
  {
   "cell_type": "markdown",
   "metadata": {},
   "source": [
    "Now, we already have our trained network. We can start to test on several unseen samples. The list `classify_callback_list` stores all the predictions which allows you to check the prediction value each time.   \n",
    "The first sample is classified to red-ish with 0.99 confidence, and the second sample is classified to blue-ish with 0.98 confidence."
   ]
  },
  {
   "cell_type": "code",
   "execution_count": 6,
   "metadata": {},
   "outputs": [
    {
     "name": "stdout",
     "output_type": "stream",
     "text": [
      ".done\n"
     ]
    }
   ],
   "source": [
    "nn.classify_data({'r': 255, 'g': 0, 'b': 0})"
   ]
  },
  {
   "cell_type": "code",
   "execution_count": 7,
   "metadata": {},
   "outputs": [
    {
     "data": {
      "text/plain": [
       "[{'red-ish': 0.9924579858779907,\n",
       "  'label': 'red-ish',\n",
       "  'confidence': 0.9924579858779907},\n",
       " {'blue-ish': 0.007542089559137821,\n",
       "  'label': 'blue-ish',\n",
       "  'confidence': 0.007542089559137821}]"
      ]
     },
     "execution_count": 7,
     "metadata": {},
     "output_type": "execute_result"
    }
   ],
   "source": [
    "nn.classify_callback_list[-1]"
   ]
  },
  {
   "cell_type": "code",
   "execution_count": 10,
   "metadata": {},
   "outputs": [
    {
     "name": "stdout",
     "output_type": "stream",
     "text": [
      ".done\n"
     ]
    }
   ],
   "source": [
    "nn.classify_data({'r': 0, 'g': 0, 'b': 252})"
   ]
  },
  {
   "cell_type": "code",
   "execution_count": 11,
   "metadata": {},
   "outputs": [
    {
     "data": {
      "text/plain": [
       "[{'blue-ish': 0.9818068742752075,\n",
       "  'label': 'blue-ish',\n",
       "  'confidence': 0.9818068742752075},\n",
       " {'red-ish': 0.018193155527114868,\n",
       "  'label': 'red-ish',\n",
       "  'confidence': 0.018193155527114868}]"
      ]
     },
     "execution_count": 11,
     "metadata": {},
     "output_type": "execute_result"
    }
   ],
   "source": [
    "nn.classify_callback_list[-1]"
   ]
  },
  {
   "cell_type": "markdown",
   "metadata": {},
   "source": [
    "#### Using saved model \n",
    "\n",
    "Instead of training a new network, you can load the network you trained previously. The following trained network is the saved version model of color classification network. "
   ]
  },
  {
   "cell_type": "code",
   "execution_count": 12,
   "metadata": {},
   "outputs": [
    {
     "data": {
      "application/vnd.jupyter.widget-view+json": {
       "model_id": "fd8f5c8f7fe34db2a39b8ed89a428b4c",
       "version_major": 2,
       "version_minor": 0
      },
      "text/plain": [
       "VBox(children=(neuralNetwork(status='deferring flush until render'), Text(value='deferring flush until render'…"
      ]
     },
     "metadata": {},
     "output_type": "display_data"
    },
    {
     "name": "stdout",
     "output_type": "stream",
     "text": [
      "......Model is created\n"
     ]
    }
   ],
   "source": [
    "nn1 = ml5_nn.neuralNetwork()\n",
    "nn1.initialize_framework()"
   ]
  },
  {
   "cell_type": "code",
   "execution_count": 13,
   "metadata": {},
   "outputs": [
    {
     "name": "stdout",
     "output_type": "stream",
     "text": [
      ".done\n"
     ]
    }
   ],
   "source": [
    "model = 'models/nn_color/model.json'\n",
    "metadata = 'models/nn_color/model_meta.json'\n",
    "weights = 'models/nn_color/model.weights.bin'\n",
    "nn1.load(model, metadata, weights)"
   ]
  },
  {
   "cell_type": "code",
   "execution_count": 14,
   "metadata": {},
   "outputs": [
    {
     "name": "stdout",
     "output_type": "stream",
     "text": [
      ".done\n"
     ]
    },
    {
     "data": {
      "text/plain": [
       "[{'red-ish': 0.9909659624099731,\n",
       "  'label': 'red-ish',\n",
       "  'confidence': 0.9909659624099731},\n",
       " {'blue-ish': 0.009034055285155773,\n",
       "  'label': 'blue-ish',\n",
       "  'confidence': 0.009034055285155773}]"
      ]
     },
     "execution_count": 14,
     "metadata": {},
     "output_type": "execute_result"
    }
   ],
   "source": [
    "nn1.classify_data({'r': 255, 'g': 0, 'b': 0})\n",
    "nn1.classify_callback_list[-1]"
   ]
  },
  {
   "cell_type": "code",
   "execution_count": 15,
   "metadata": {},
   "outputs": [
    {
     "name": "stdout",
     "output_type": "stream",
     "text": [
      ".done\n"
     ]
    },
    {
     "data": {
      "text/plain": [
       "[{'blue-ish': 0.9853614568710327,\n",
       "  'label': 'blue-ish',\n",
       "  'confidence': 0.9853614568710327},\n",
       " {'red-ish': 0.014638460241258144,\n",
       "  'label': 'red-ish',\n",
       "  'confidence': 0.014638460241258144}]"
      ]
     },
     "execution_count": 15,
     "metadata": {},
     "output_type": "execute_result"
    }
   ],
   "source": [
    "nn1.classify_data({'r': 0, 'g': 0, 'b': 255})\n",
    "nn1.classify_callback_list[-1]"
   ]
  },
  {
   "cell_type": "markdown",
   "metadata": {},
   "source": [
    "### Left-Right Classification  \n",
    "\n",
    "The following example can refer to a simple network example in [`ml5.js`](https://github.com/ml5js/ml5-library/tree/main/examples/p5js/NeuralNetwork/NeuralNetwork_Simple_Classification). We take a numeric value as input and left or right value as output. "
   ]
  },
  {
   "cell_type": "code",
   "execution_count": 22,
   "metadata": {},
   "outputs": [
    {
     "data": {
      "application/vnd.jupyter.widget-view+json": {
       "model_id": "e8983c0e16004069bea2095af727cdae",
       "version_major": 2,
       "version_minor": 0
      },
      "text/plain": [
       "VBox(children=(neuralNetwork(status='deferring flush until render'), Text(value='deferring flush until render'…"
      ]
     },
     "metadata": {},
     "output_type": "display_data"
    },
    {
     "name": "stdout",
     "output_type": "stream",
     "text": [
      "......Model is created\n"
     ]
    }
   ],
   "source": [
    "options = {\n",
    "  'inputs': 1,\n",
    "  'outputs': 2,\n",
    "  'task': 'classification',\n",
    "  'debug': True\n",
    "}\n",
    "nn1 = ml5_nn.neuralNetwork(options)\n",
    "nn1.initialize_framework()"
   ]
  },
  {
   "cell_type": "markdown",
   "metadata": {},
   "source": [
    "500 samples of data is generated with integer numbers in [0,200) as left and in [200,400) as right."
   ]
  },
  {
   "cell_type": "code",
   "execution_count": 23,
   "metadata": {},
   "outputs": [],
   "source": [
    "import numpy as np\n",
    "for i in range(500):\n",
    "    if i%2==0:\n",
    "        x = np.random.randint(0, 200)\n",
    "        nn1.add_data( [x],  ['left'])\n",
    "    else:\n",
    "        x = np.random.randint(200,400)\n",
    "        nn1.add_data( [x],  ['right'])"
   ]
  },
  {
   "cell_type": "code",
   "execution_count": 24,
   "metadata": {},
   "outputs": [],
   "source": [
    "nn1.normalize_data()"
   ]
  },
  {
   "cell_type": "code",
   "execution_count": 25,
   "metadata": {},
   "outputs": [
    {
     "name": "stdout",
     "output_type": "stream",
     "text": [
      "...........................................................................................done\n"
     ]
    }
   ],
   "source": [
    "trainingOptions={\n",
    "    'batchSize': 16,\n",
    "    'epochs': 35\n",
    "  }\n",
    "  \n",
    "nn1.train_data(trainingOptions)"
   ]
  },
  {
   "cell_type": "code",
   "execution_count": 29,
   "metadata": {},
   "outputs": [
    {
     "name": "stdout",
     "output_type": "stream",
     "text": [
      ".done\n"
     ]
    },
    {
     "data": {
      "text/plain": [
       "[{'left': 0.9932568073272705,\n",
       "  'label': 'left',\n",
       "  'confidence': 0.9932568073272705},\n",
       " {'right': 0.0067431312054395676,\n",
       "  'label': 'right',\n",
       "  'confidence': 0.0067431312054395676}]"
      ]
     },
     "execution_count": 29,
     "metadata": {},
     "output_type": "execute_result"
    }
   ],
   "source": [
    "nn1.classify_data([56])\n",
    "nn1.classify_callback_list[-1]"
   ]
  },
  {
   "cell_type": "code",
   "execution_count": 28,
   "metadata": {},
   "outputs": [
    {
     "name": "stdout",
     "output_type": "stream",
     "text": [
      ".done\n"
     ]
    },
    {
     "data": {
      "text/plain": [
       "[{'right': 0.9998488426208496,\n",
       "  'label': 'right',\n",
       "  'confidence': 0.9998488426208496},\n",
       " {'left': 0.00015111886023078114,\n",
       "  'label': 'left',\n",
       "  'confidence': 0.00015111886023078114}]"
      ]
     },
     "execution_count": 28,
     "metadata": {},
     "output_type": "execute_result"
    }
   ],
   "source": [
    "nn1.classify_data([300])\n",
    "nn1.classify_callback_list[-1]"
   ]
  }
 ],
 "metadata": {
  "kernelspec": {
   "display_name": "Python 3",
   "language": "python",
   "name": "python3"
  },
  "language_info": {
   "codemirror_mode": {
    "name": "ipython",
    "version": 3
   },
   "file_extension": ".py",
   "mimetype": "text/x-python",
   "name": "python",
   "nbconvert_exporter": "python",
   "pygments_lexer": "ipython3",
   "version": "3.7.0"
  }
 },
 "nbformat": 4,
 "nbformat_minor": 4
}
