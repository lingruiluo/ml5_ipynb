{
 "cells": [
  {
   "cell_type": "code",
   "execution_count": 1,
   "metadata": {},
   "outputs": [],
   "source": [
    "from ml5_ipynb import ml5_nn\n",
    "from jp_doodle import dual_canvas\n",
    "import re\n",
    "from IPython.display import display"
   ]
  },
  {
   "cell_type": "code",
   "execution_count": 2,
   "metadata": {},
   "outputs": [
    {
     "data": {
      "application/vnd.jupyter.widget-view+json": {
       "model_id": "19487918647a4a0996f02e127e57542b",
       "version_major": 2,
       "version_minor": 0
      },
      "text/plain": [
       "VBox(children=(neuralNetwork(status='deferring flush until render'), Text(value='deferring flush until render'…"
      ]
     },
     "metadata": {},
     "output_type": "display_data"
    }
   ],
   "source": [
    "nn = ml5_nn.neuralNetwork()\n",
    "nn.options['dataUrl'] = 'data/colorData.json'\n",
    "nn.options['inputs']=['r','g','b']\n",
    "nn.options['outputs'] = ['label']\n",
    "nn.options['task'] = 'classification'\n",
    "nn.options['debug']=True\n",
    "nn.initialize_framework()"
   ]
  },
  {
   "cell_type": "code",
   "execution_count": 3,
   "metadata": {},
   "outputs": [
    {
     "name": "stdout",
     "output_type": "stream",
     "text": [
      "....................................................................................................................................................................................................................................................................done\n"
     ]
    }
   ],
   "source": [
    "nn.normalize_data()\n",
    "trainingOptions = {'epochs': 20, 'batchSize' : 64}\n",
    "nn.train_data(trainingOptions)"
   ]
  },
  {
   "cell_type": "code",
   "execution_count": 4,
   "metadata": {},
   "outputs": [
    {
     "data": {
      "application/vnd.jupyter.widget-view+json": {
       "model_id": "e5ea306648f84691b3c3234d357421b6",
       "version_major": 2,
       "version_minor": 0
      },
      "text/plain": [
       "DualCanvasWidget(status='deferring flush until render')"
      ]
     },
     "metadata": {},
     "output_type": "display_data"
    }
   ],
   "source": [
    "demo = dual_canvas.DualCanvasWidget(width=200, height=120)\n",
    "demo"
   ]
  },
  {
   "cell_type": "code",
   "execution_count": 5,
   "metadata": {},
   "outputs": [],
   "source": [
    "def get_color(color):\n",
    "    print(color)\n",
    "    r, g, b = list(map(int, re.findall(r'\\d+', color)))\n",
    "    test_color = {'r': r, 'g': g, 'b': b}\n",
    "    nn.classify_data(test_color)\n",
    "    predict_dict = nn.classify_callback_list[-1][0]\n",
    "    label = predict_dict['label']\n",
    "    confidence = round(predict_dict['confidence']*100,2)\n",
    "    predict_color = label.split('-')[0]\n",
    "    demo.js_init(\"\"\"\n",
    "        element.transition(\"Predict\", {color: predict_color});\n",
    "        element.transition(\"predict_color\", {text: \"color: \"+label+\"(\"+confidence+\"%)\"});\n",
    "    \"\"\",predict_color=predict_color, label=label, confidence=confidence)\n",
    "\n",
    "demo.js_init(\"\"\"\n",
    "    // Attach a dual canvas associated with the element as a child of the element\n",
    "    // configured with width 400 and height 200.\n",
    "    var config = {\n",
    "                width: 700,\n",
    "                height: 350,\n",
    "            };\n",
    "    element.dual_canvas_helper(config);\n",
    "\n",
    "    // Draw some named elements on the canvas.\n",
    "\n",
    "    element.circle({\n",
    "        name: \"Predict\", x:50, y:150, r:50, \n",
    "        color:\"Black\", lineWidth: 14});\n",
    "\n",
    "    element.circle({\n",
    "        name: \"True\", x:200, y:150, r:50, \n",
    "        color:\"Black\", lineWidth: 14});\n",
    "\n",
    "    // A magenta text string display named Pluto\n",
    "    element.text({\n",
    "        name: \"predict_text\", text: \"Predict\", font: \"16px Arial\",\n",
    "        x: 20, y:70, color:\"Black\"\n",
    "    })\n",
    "    element.text({\n",
    "        name: \"predict_color\", text: \"Color: \", font: \"12px Arial\",\n",
    "        x: 20, y:55, color:\"Black\"\n",
    "    })\n",
    "    \n",
    "    element.text({\n",
    "        name: \"true_text\", text: \"True\", font: \"16px Arial\",\n",
    "        x: 180, y:70, color:\"Black\"\n",
    "    })\n",
    "    element.text({\n",
    "        name: \"true_color\", text: \"Color: \", font: \"12px Arial\",\n",
    "        x: 180, y:55, color:\"Black\"\n",
    "    })\n",
    "\n",
    "    // Position a color chooser on the canvas.\n",
    "    var chosen_color = null;\n",
    "\n",
    "    element.color_chooser({\n",
    "        x: 310, y: 50, side:200, font: \"normal 7px Arial\",\n",
    "        callback: function(color_array, color_string) { chosen_color = color_string; }\n",
    "    });\n",
    "\n",
    "    // mouse tracker circle (initially hidden)\n",
    "    var tracker = element.circle({\n",
    "        name:\"mouse_track\", r:5,\n",
    "        events: false,  // This object is invisible to events.\n",
    "        x:0, y:0, color:\"black\", hide:true});\n",
    "\n",
    "    element.text({\n",
    "        x: 310, y:25, name: \"explanation\",\n",
    "        text: \"Choose a color and click the circle with label of True to predict\",\n",
    "    })\n",
    "\n",
    "    // Center and scale the figure to fit in the available area.\n",
    "    element.fit(null, 20)\n",
    "\n",
    "    var on_mouse_move = function(event) {\n",
    "        var name = event.canvas_name;\n",
    "        var location = element.event_model_location(event);\n",
    "        if ((chosen_color) && (name) && (location.x < 310)) {\n",
    "            tracker.change(\n",
    "                    {hide:false, x:location.x, y:location.y, color:chosen_color});\n",
    "        if (event.type == \"click\") {\n",
    "            element.transition(\"True\", {color: chosen_color});\n",
    "            element.transition(\"true_color\", {text: \"color: \"+chosen_color});\n",
    "            get_color(chosen_color);\n",
    "            }\n",
    "        } else {\n",
    "            tracker.change({hide: true});\n",
    "        }\n",
    "    };\n",
    "    element.on_canvas_event(\"mousemove\", on_mouse_move);\n",
    "    element.on_canvas_event(\"click\", on_mouse_move);\n",
    "\n",
    "\"\"\", get_color = get_color)"
   ]
  },
  {
   "cell_type": "code",
   "execution_count": null,
   "metadata": {},
   "outputs": [],
   "source": []
  }
 ],
 "metadata": {
  "kernelspec": {
   "display_name": "Python 3",
   "language": "python",
   "name": "python3"
  },
  "language_info": {
   "codemirror_mode": {
    "name": "ipython",
    "version": 3
   },
   "file_extension": ".py",
   "mimetype": "text/x-python",
   "name": "python",
   "nbconvert_exporter": "python",
   "pygments_lexer": "ipython3",
   "version": "3.7.0"
  }
 },
 "nbformat": 4,
 "nbformat_minor": 4
}
