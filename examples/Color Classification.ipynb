{
 "cells": [
  {
   "cell_type": "code",
   "execution_count": 4,
   "metadata": {},
   "outputs": [],
   "source": [
    "from ml5_ipynb import ml5_nn"
   ]
  },
  {
   "cell_type": "code",
   "execution_count": 5,
   "metadata": {},
   "outputs": [
    {
     "data": {
      "application/vnd.jupyter.widget-view+json": {
       "model_id": "5ba5a1bc81f1471e8fbffb5e9fa848e3",
       "version_major": 2,
       "version_minor": 0
      },
      "text/plain": [
       "VBox(children=(neuralNetwork(status='deferring flush until render'), Text(value='deferring flush until render'…"
      ]
     },
     "metadata": {},
     "output_type": "display_data"
    }
   ],
   "source": [
    "nn = ml5_nn.neuralNetwork()\n",
    "nn.options['dataUrl'] = 'data/colorData.json'\n",
    "nn.options['inputs']=['r','g','b']\n",
    "nn.options['outputs'] = ['label']\n",
    "nn.options['task'] = 'classification'\n",
    "nn.options['debug']=True\n",
    "nn.initialize_framework()"
   ]
  },
  {
   "cell_type": "code",
   "execution_count": 6,
   "metadata": {},
   "outputs": [],
   "source": [
    "nn.normalize_data()"
   ]
  },
  {
   "cell_type": "code",
   "execution_count": 7,
   "metadata": {},
   "outputs": [
    {
     "name": "stdout",
     "output_type": "stream",
     "text": [
      ".............................................................................................................................................................done\n"
     ]
    }
   ],
   "source": [
    "trainingOptions = {'epochs': 20, 'batchSize' : 64}\n",
    "nn.train_data(trainingOptions)"
   ]
  },
  {
   "cell_type": "code",
   "execution_count": 8,
   "metadata": {},
   "outputs": [],
   "source": [
    "test_color = [{'r': 0, 'g': 255, 'b': 255},\n",
    "             {'r': 96, 'g': 96, 'b': 96},\n",
    "             {'r': 255, 'g': 255, 'b': 51},\n",
    "             {'r': 153, 'g': 0, 'b': 0},\n",
    "             {'r': 76, 'g': 0, 'b': 153}]\n",
    "test_label = ['blue-ish','grey-ish','yellow-ish',\n",
    "             'red-ish','purple-ish']"
   ]
  },
  {
   "cell_type": "code",
   "execution_count": 9,
   "metadata": {},
   "outputs": [
    {
     "name": "stdout",
     "output_type": "stream",
     "text": [
      "...done\n",
      "..done\n",
      "..done\n",
      "..done\n",
      "..done\n"
     ]
    }
   ],
   "source": [
    "for i in range(len(test_color)):\n",
    "    nn.classify_data(test_color[i])"
   ]
  },
  {
   "cell_type": "code",
   "execution_count": 10,
   "metadata": {},
   "outputs": [
    {
     "data": {
      "text/plain": [
       "['blue-ish', 'green-ish', 'yellow-ish', 'red-ish', 'purple-ish']"
      ]
     },
     "execution_count": 10,
     "metadata": {},
     "output_type": "execute_result"
    }
   ],
   "source": [
    "predict_label = [nn.classify_callback_list[i][0]['label'] for i in range(len(test_color))]\n",
    "predict_label"
   ]
  },
  {
   "cell_type": "code",
   "execution_count": 11,
   "metadata": {},
   "outputs": [
    {
     "data": {
      "text/plain": [
       "0.8"
      ]
     },
     "execution_count": 11,
     "metadata": {},
     "output_type": "execute_result"
    }
   ],
   "source": [
    "import numpy as np\n",
    "sum(np.array(predict_label) == np.array(test_label))/len(test_label)"
   ]
  },
  {
   "cell_type": "code",
   "execution_count": null,
   "metadata": {},
   "outputs": [],
   "source": []
  },
  {
   "cell_type": "code",
   "execution_count": null,
   "metadata": {},
   "outputs": [],
   "source": []
  },
  {
   "cell_type": "code",
   "execution_count": null,
   "metadata": {},
   "outputs": [],
   "source": []
  },
  {
   "cell_type": "code",
   "execution_count": null,
   "metadata": {},
   "outputs": [],
   "source": []
  },
  {
   "cell_type": "code",
   "execution_count": null,
   "metadata": {},
   "outputs": [],
   "source": []
  },
  {
   "cell_type": "code",
   "execution_count": null,
   "metadata": {},
   "outputs": [],
   "source": []
  }
 ],
 "metadata": {
  "kernelspec": {
   "display_name": "Python 3",
   "language": "python",
   "name": "python3"
  },
  "language_info": {
   "codemirror_mode": {
    "name": "ipython",
    "version": 3
   },
   "file_extension": ".py",
   "mimetype": "text/x-python",
   "name": "python",
   "nbconvert_exporter": "python",
   "pygments_lexer": "ipython3",
   "version": "3.7.0"
  }
 },
 "nbformat": 4,
 "nbformat_minor": 4
}
