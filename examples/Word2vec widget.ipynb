{
 "cells": [
  {
   "cell_type": "markdown",
   "metadata": {},
   "source": [
    "# Word2Vec model widgets\n",
    "\n",
    "This notebook introduces several examples of linking word2vec model in `ml5_ipynb` with jupyter widget `ipywidgets` to produce outputs."
   ]
  },
  {
   "cell_type": "code",
   "execution_count": 1,
   "metadata": {},
   "outputs": [],
   "source": [
    "from ml5_ipynb import ml5_text\n",
    "import ipywidgets as widgets"
   ]
  },
  {
   "cell_type": "code",
   "execution_count": 2,
   "metadata": {},
   "outputs": [
    {
     "data": {
      "application/vnd.jupyter.widget-view+json": {
       "model_id": "78fc7b51804d441b9e8662a42084adca",
       "version_major": 2,
       "version_minor": 0
      },
      "text/plain": [
       "VBox(children=(word2Vec(status='deferring flush until render'), Text(value='deferring flush until render', des…"
      ]
     },
     "metadata": {},
     "output_type": "display_data"
    },
    {
     "name": "stdout",
     "output_type": "stream",
     "text": [
      "..................Model is ready\n"
     ]
    }
   ],
   "source": [
    "w2v = ml5_text.word2Vec('data/wordvecs10000.json')"
   ]
  },
  {
   "cell_type": "markdown",
   "metadata": {},
   "source": [
    "## What are the Top 3 nearest words?"
   ]
  },
  {
   "cell_type": "code",
   "execution_count": 5,
   "metadata": {},
   "outputs": [],
   "source": [
    "nearest = widgets.Textarea(\n",
    "    value='',\n",
    "    placeholder='Type a word',\n",
    "#     description='Please type a word',\n",
    "    disabled=False\n",
    ")\n",
    "nearest_output = widgets.HTML(\n",
    "    value=\"\",\n",
    "#     placeholder='Some HTML',\n",
    "#     description='Some HTML',\n",
    ")\n",
    "nearest_button = widgets.ToggleButton(\n",
    "    value=False,\n",
    "    description='is nearest to',\n",
    "    disabled=False,\n",
    "    button_style='', # 'success', 'info', 'warning', 'danger' or ''\n",
    "    tooltip='Description',\n",
    "#     icon='check' \n",
    ")\n",
    "def get_nearest(val):\n",
    "    if val:\n",
    "        word = nearest.value\n",
    "        if not word:\n",
    "            print('Empty word!')\n",
    "            return\n",
    "        w2v.nearest(word)\n",
    "        nearest_list = w2v.nearest_results[-1]\n",
    "        if not nearest_list:\n",
    "            print('No nearest word!')\n",
    "            return\n",
    "        nearest_words = [i['word'] for i in nearest_list[:3]]\n",
    "        w_str = '<br>'.join(nearest_words)\n",
    "        nearest_output.value = w_str\n",
    "    nearest_button.value = False"
   ]
  },
  {
   "cell_type": "code",
   "execution_count": 6,
   "metadata": {},
   "outputs": [
    {
     "data": {
      "application/vnd.jupyter.widget-view+json": {
       "model_id": "9c89bf11e0c145ea92acf8864e987443",
       "version_major": 2,
       "version_minor": 0
      },
      "text/plain": [
       "VBox(children=(Textarea(value='', placeholder='Type a word'), ToggleButton(value=False, description='is neares…"
      ]
     },
     "metadata": {},
     "output_type": "display_data"
    }
   ],
   "source": [
    "out = widgets.interactive_output(get_nearest,{'val':nearest_button})\n",
    "widgets.VBox([nearest,nearest_button,nearest_output,out])"
   ]
  },
  {
   "cell_type": "markdown",
   "metadata": {},
   "source": [
    "## What's the Top 3 words between two words?"
   ]
  },
  {
   "cell_type": "code",
   "execution_count": 7,
   "metadata": {},
   "outputs": [],
   "source": [
    "w1 = widgets.Text(\n",
    "    value='',\n",
    "    placeholder='Type a word',\n",
    "    disabled=False\n",
    ")\n",
    "w2 = widgets.Text(\n",
    "    value='',\n",
    "    placeholder='Type a word',\n",
    "    disabled=False\n",
    ")\n",
    "btw_output = widgets.HTML(\n",
    "    value=\"\",\n",
    ")\n",
    "btw_button = widgets.ToggleButton(\n",
    "    value=False,\n",
    "    description='is',\n",
    "    disabled=False,\n",
    "    button_style='', # 'success', 'info', 'warning', 'danger' or ''\n",
    "    tooltip='Description',\n",
    ")\n",
    "def get_btw(val):\n",
    "    if val:\n",
    "        word1 = w1.value\n",
    "        word2 = w2.value\n",
    "        if not word1 or not word2:\n",
    "            print('Please type in both!')\n",
    "            return\n",
    "        w2v.average([word1,word2])\n",
    "        btw_list = w2v.average_results[-1]\n",
    "        if not btw_list:\n",
    "            print('No between word!')\n",
    "            return\n",
    "        btw_words = [i['word'] for i in btw_list[:3]]\n",
    "        w_str = '<br>'.join(btw_words)\n",
    "        btw_output.value = w_str\n",
    "    btw_button.value = False"
   ]
  },
  {
   "cell_type": "code",
   "execution_count": 8,
   "metadata": {},
   "outputs": [
    {
     "data": {
      "application/vnd.jupyter.widget-view+json": {
       "model_id": "297caa7122a6493b93468cfd82b55cad",
       "version_major": 2,
       "version_minor": 0
      },
      "text/plain": [
       "VBox(children=(HBox(children=(HTML(value='Between '), Text(value='', placeholder='Type a word'), HTML(value=' …"
      ]
     },
     "metadata": {},
     "output_type": "display_data"
    }
   ],
   "source": [
    "btw_out = widgets.interactive_output(get_btw,{'val':btw_button})\n",
    "widgets.VBox([widgets.HBox([widgets.HTML(value=\"Between \"),\n",
    "                            w1, \n",
    "                            widgets.HTML(value=\" and \"),\n",
    "                            w2,btw_button]),\n",
    "              btw_output,btw_out])"
   ]
  },
  {
   "cell_type": "markdown",
   "metadata": {},
   "source": [
    "## Analogy"
   ]
  },
  {
   "cell_type": "code",
   "execution_count": 13,
   "metadata": {},
   "outputs": [],
   "source": [
    "is_word = widgets.Text(\n",
    "    value='',\n",
    "    placeholder='Type a word',\n",
    "    disabled=False\n",
    ")\n",
    "to_word = widgets.Text(\n",
    "    value='',\n",
    "    placeholder='Type a word',\n",
    "    disabled=False\n",
    ")\n",
    "is_word2 = widgets.Text(\n",
    "    value='',\n",
    "    placeholder='Type a word',\n",
    "    disabled=False\n",
    ")\n",
    "analogy_output = widgets.HTML(\n",
    "    value=\"\",\n",
    ")\n",
    "analogy_button = widgets.ToggleButton(\n",
    "    value=False,\n",
    "    description='is to',\n",
    "    disabled=False,\n",
    "    button_style='', # 'success', 'info', 'warning', 'danger' or ''\n",
    "    tooltip='Description',\n",
    ")\n",
    "def get_analogy(val):\n",
    "    if val:\n",
    "        iw = is_word.value\n",
    "        tw = to_word.value\n",
    "        iw2 = is_word2.value\n",
    "        if not iw or not tw or not iw2:\n",
    "            print('Please finish typing!')\n",
    "            return\n",
    "        w2v.subtract([tw,iw])\n",
    "        sub_list = w2v.subtract_results[-1]\n",
    "        if not sub_list:\n",
    "            print('Oops! Please type in other words!')\n",
    "            return\n",
    "        sub_w = sub_list[0]['word']\n",
    "        w2v.add([iw2,sub_w])\n",
    "        add_list = w2v.add_results[-1]\n",
    "        if not add_list:\n",
    "            print('Oops! No analogy for this example!')\n",
    "        add_word = add_list[0]['word']\n",
    "        analogy_output.value = add_word\n",
    "    analogy_button.value = False"
   ]
  },
  {
   "cell_type": "code",
   "execution_count": 14,
   "metadata": {},
   "outputs": [
    {
     "data": {
      "application/vnd.jupyter.widget-view+json": {
       "model_id": "d3a8bf3e04d04004ae2bb6e99603d53a",
       "version_major": 2,
       "version_minor": 0
      },
      "text/plain": [
       "VBox(children=(HBox(children=(Text(value='', placeholder='Type a word'), HTML(value=' is to '), Text(value='',…"
      ]
     },
     "metadata": {},
     "output_type": "display_data"
    }
   ],
   "source": [
    "analogy_out = widgets.interactive_output(get_analogy,{'val':analogy_button})\n",
    "widgets.VBox([widgets.HBox([is_word,\n",
    "                            widgets.HTML(value=\" is to \"),\n",
    "                            to_word,\n",
    "                            widgets.HTML(value=\" as \"),\n",
    "                            is_word2,analogy_button]),\n",
    "              analogy_output,analogy_out])"
   ]
  },
  {
   "cell_type": "code",
   "execution_count": null,
   "metadata": {},
   "outputs": [],
   "source": []
  }
 ],
 "metadata": {
  "kernelspec": {
   "display_name": "Python 3",
   "language": "python",
   "name": "python3"
  },
  "language_info": {
   "codemirror_mode": {
    "name": "ipython",
    "version": 3
   },
   "file_extension": ".py",
   "mimetype": "text/x-python",
   "name": "python",
   "nbconvert_exporter": "python",
   "pygments_lexer": "ipython3",
   "version": "3.7.0"
  }
 },
 "nbformat": 4,
 "nbformat_minor": 4
}
