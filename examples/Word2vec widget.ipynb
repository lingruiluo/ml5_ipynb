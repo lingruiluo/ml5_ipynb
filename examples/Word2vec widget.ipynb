{
 "cells": [
  {
   "cell_type": "markdown",
   "metadata": {},
   "source": [
    "# Word2Vec model widgets\n",
    "\n",
    "This notebook introduces several examples of linking word2vec model in `ml5_ipynb` with jupyter widget `ipywidgets` to produce outputs.  \n",
    "The model used contains 300-dimension embeddings for 10000 most common English words. There are smaller models in data folder.  \n",
    "\n",
    "This example can refer to an word2vec [example](https://github.com/ml5js/ml5-library/tree/main/examples/p5js/Word2Vec/Word2Vec_Interactive/data) in ml5.js\n",
    "\n",
    "**Note:** Using words not in the model embeddings will result in errors."
   ]
  },
  {
   "cell_type": "code",
   "execution_count": 1,
   "metadata": {},
   "outputs": [],
   "source": [
    "from ml5_ipynb import ml5_text\n",
    "import ipywidgets as widgets"
   ]
  },
  {
   "cell_type": "code",
   "execution_count": 2,
   "metadata": {},
   "outputs": [
    {
     "data": {
      "application/vnd.jupyter.widget-view+json": {
       "model_id": "adcc24e553764d22ab238ff790faf87b",
       "version_major": 2,
       "version_minor": 0
      },
      "text/plain": [
       "VBox(children=(word2Vec(status='deferring flush until render'), Text(value='deferring flush until render', des…"
      ]
     },
     "metadata": {},
     "output_type": "display_data"
    },
    {
     "name": "stdout",
     "output_type": "stream",
     "text": [
      "....................Model is ready\n"
     ]
    }
   ],
   "source": [
    "w2v = ml5_text.word2Vec('data/wordvecs10000.json')"
   ]
  },
  {
   "cell_type": "markdown",
   "metadata": {},
   "source": [
    "## What are the Top 3 nearest words?\n",
    "\n",
    "The following uses `nearest(word)` function to calculate the cosine distance and output the top 3 words with smallest distance."
   ]
  },
  {
   "cell_type": "code",
   "execution_count": 3,
   "metadata": {},
   "outputs": [],
   "source": [
    "nearest = widgets.Textarea(\n",
    "    value='',\n",
    "    placeholder='Type a word',\n",
    "#     description='Please type a word',\n",
    "    disabled=False\n",
    ")\n",
    "nearest_output = widgets.HTML(\n",
    "    value=\"\",\n",
    "#     placeholder='Some HTML',\n",
    "#     description='Some HTML',\n",
    ")\n",
    "nearest_button = widgets.ToggleButton(\n",
    "    value=False,\n",
    "    description='is nearest to',\n",
    "    disabled=False,\n",
    "    button_style='', # 'success', 'info', 'warning', 'danger' or ''\n",
    "    tooltip='Description',\n",
    "#     icon='check' \n",
    ")\n",
    "def get_nearest(val):\n",
    "    if val:\n",
    "        word = nearest.value\n",
    "        if not word:\n",
    "            print('Empty word!')\n",
    "            return\n",
    "        w2v.nearest(word)\n",
    "        nearest_list = w2v.nearest_results[-1]\n",
    "        if not nearest_list:\n",
    "            print('No nearest word!')\n",
    "            return\n",
    "        nearest_words = [i['word'] for i in nearest_list[:3]]\n",
    "        w_str = '<br>'.join(nearest_words)\n",
    "        nearest_output.value = w_str\n",
    "    nearest_button.value = False"
   ]
  },
  {
   "cell_type": "code",
   "execution_count": 4,
   "metadata": {},
   "outputs": [
    {
     "data": {
      "application/vnd.jupyter.widget-view+json": {
       "model_id": "b447deaafbab4bae95b6e1deb7ecd9c9",
       "version_major": 2,
       "version_minor": 0
      },
      "text/plain": [
       "VBox(children=(Textarea(value='', placeholder='Type a word'), ToggleButton(value=False, description='is neares…"
      ]
     },
     "metadata": {},
     "output_type": "display_data"
    }
   ],
   "source": [
    "out = widgets.interactive_output(get_nearest,{'val':nearest_button})\n",
    "widgets.VBox([nearest,nearest_button,nearest_output,out])"
   ]
  },
  {
   "cell_type": "markdown",
   "metadata": {},
   "source": [
    "## What's the Top 3 words between two words?\n",
    "\n",
    "The following uses `average([word1,word2])` function to calculate the average of embedding of two words and output the top 3 words similar to the average embedding."
   ]
  },
  {
   "cell_type": "code",
   "execution_count": 5,
   "metadata": {},
   "outputs": [],
   "source": [
    "w1 = widgets.Text(\n",
    "    value='',\n",
    "    placeholder='Type a word',\n",
    "    disabled=False\n",
    ")\n",
    "w2 = widgets.Text(\n",
    "    value='',\n",
    "    placeholder='Type a word',\n",
    "    disabled=False\n",
    ")\n",
    "btw_output = widgets.HTML(\n",
    "    value=\"\",\n",
    ")\n",
    "btw_button = widgets.ToggleButton(\n",
    "    value=False,\n",
    "    description='is',\n",
    "    disabled=False,\n",
    "    button_style='', # 'success', 'info', 'warning', 'danger' or ''\n",
    "    tooltip='Description',\n",
    ")\n",
    "def get_btw(val):\n",
    "    if val:\n",
    "        word1 = w1.value\n",
    "        word2 = w2.value\n",
    "        if not word1 or not word2:\n",
    "            print('Please type in both!')\n",
    "            return\n",
    "        w2v.average([word1,word2])\n",
    "        btw_list = w2v.average_results[-1]\n",
    "        if not btw_list:\n",
    "            print('No between word!')\n",
    "            return\n",
    "        btw_words = [i['word'] for i in btw_list[:3]]\n",
    "        w_str = '<br>'.join(btw_words)\n",
    "        btw_output.value = w_str\n",
    "    btw_button.value = False"
   ]
  },
  {
   "cell_type": "code",
   "execution_count": 6,
   "metadata": {},
   "outputs": [
    {
     "data": {
      "application/vnd.jupyter.widget-view+json": {
       "model_id": "aefd12f9c0174f99acae3652132b0a51",
       "version_major": 2,
       "version_minor": 0
      },
      "text/plain": [
       "VBox(children=(HBox(children=(HTML(value='Between '), Text(value='', placeholder='Type a word'), HTML(value=' …"
      ]
     },
     "metadata": {},
     "output_type": "display_data"
    }
   ],
   "source": [
    "btw_out = widgets.interactive_output(get_btw,{'val':btw_button})\n",
    "widgets.VBox([widgets.HBox([widgets.HTML(value=\"Between \"),\n",
    "                            w1, \n",
    "                            widgets.HTML(value=\" and \"),\n",
    "                            w2,btw_button]),\n",
    "              btw_output,btw_out])"
   ]
  },
  {
   "cell_type": "markdown",
   "metadata": {},
   "source": [
    "## Analogy\n",
    "\n",
    "Analogy is to show how two things are similar to each other. Analogy of word embedding can refer to element-wise addition and subtraction. It is a \"word algebra\".   \n",
    "For example, king is to queen as man is to woman. The resulting word is determined by the following formula.\n",
    "```\n",
    "vector('queen') - vector('king') + vector('man')\n",
    "```"
   ]
  },
  {
   "cell_type": "code",
   "execution_count": 7,
   "metadata": {},
   "outputs": [],
   "source": [
    "is_word = widgets.Text(\n",
    "    value='',\n",
    "    placeholder='Type a word',\n",
    "    disabled=False\n",
    ")\n",
    "to_word = widgets.Text(\n",
    "    value='',\n",
    "    placeholder='Type a word',\n",
    "    disabled=False\n",
    ")\n",
    "is_word2 = widgets.Text(\n",
    "    value='',\n",
    "    placeholder='Type a word',\n",
    "    disabled=False\n",
    ")\n",
    "analogy_output = widgets.HTML(\n",
    "    value=\"\",\n",
    ")\n",
    "analogy_button = widgets.ToggleButton(\n",
    "    value=False,\n",
    "    description='is to',\n",
    "    disabled=False,\n",
    "    button_style='', # 'success', 'info', 'warning', 'danger' or ''\n",
    "    tooltip='Description',\n",
    ")\n",
    "def get_analogy(val):\n",
    "    if val:\n",
    "        iw = is_word.value\n",
    "        tw = to_word.value\n",
    "        iw2 = is_word2.value\n",
    "        if not iw or not tw or not iw2:\n",
    "            print('Please finish typing!')\n",
    "            return\n",
    "        w2v.subtract([tw,iw])\n",
    "        sub_list = w2v.subtract_results[-1]\n",
    "        if not sub_list:\n",
    "            print('Oops! Please type in other words!')\n",
    "            return\n",
    "        sub_w = sub_list[0]['word']\n",
    "        w2v.add([sub_w,iw2])\n",
    "        add_list = w2v.add_results[-1]\n",
    "        if not add_list:\n",
    "            print('Oops! No analogy for this example!')\n",
    "        add_word = [i['word']+\"(\"+ str(round(i['distance'],2))+\")\" for i in add_list[:3]]\n",
    "        analogy_output.value = \" , \".join(add_word)\n",
    "    analogy_button.value = False"
   ]
  },
  {
   "cell_type": "code",
   "execution_count": 8,
   "metadata": {
    "scrolled": false
   },
   "outputs": [
    {
     "data": {
      "application/vnd.jupyter.widget-view+json": {
       "model_id": "683c905bf6824e67ab3bae0c9e57659d",
       "version_major": 2,
       "version_minor": 0
      },
      "text/plain": [
       "VBox(children=(HBox(children=(Text(value='', placeholder='Type a word'), HTML(value=' is to '), Text(value='',…"
      ]
     },
     "metadata": {},
     "output_type": "display_data"
    }
   ],
   "source": [
    "analogy_out = widgets.interactive_output(get_analogy,{'val':analogy_button})\n",
    "widgets.VBox([widgets.HBox([is_word,\n",
    "                            widgets.HTML(value=\" is to \"),\n",
    "                            to_word,\n",
    "                            widgets.HTML(value=\" as \"),\n",
    "                            is_word2,analogy_button]),\n",
    "              analogy_output,analogy_out])"
   ]
  }
 ],
 "metadata": {
  "kernelspec": {
   "display_name": "Python 3",
   "language": "python",
   "name": "python3"
  },
  "language_info": {
   "codemirror_mode": {
    "name": "ipython",
    "version": 3
   },
   "file_extension": ".py",
   "mimetype": "text/x-python",
   "name": "python",
   "nbconvert_exporter": "python",
   "pygments_lexer": "ipython3",
   "version": "3.7.0"
  }
 },
 "nbformat": 4,
 "nbformat_minor": 4
}
