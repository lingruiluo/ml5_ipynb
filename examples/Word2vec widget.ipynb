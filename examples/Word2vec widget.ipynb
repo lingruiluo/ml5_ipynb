{
 "cells": [
  {
   "cell_type": "code",
   "execution_count": 1,
   "metadata": {},
   "outputs": [],
   "source": [
    "from ml5_ipynb import ml5_text\n",
    "import ipywidgets as widgets"
   ]
  },
  {
   "cell_type": "code",
   "execution_count": 2,
   "metadata": {},
   "outputs": [
    {
     "data": {
      "application/vnd.jupyter.widget-view+json": {
       "model_id": "687ec554eeb1431a94d08244c84b8ff4",
       "version_major": 2,
       "version_minor": 0
      },
      "text/plain": [
       "VBox(children=(word2Vec(status='deferring flush until render'), Text(value='deferring flush until render', des…"
      ]
     },
     "metadata": {},
     "output_type": "display_data"
    },
    {
     "name": "stdout",
     "output_type": "stream",
     "text": [
      "............Model is ready\n"
     ]
    }
   ],
   "source": [
    "w2v = ml5_text.word2Vec('data/wordvecs10000.json')"
   ]
  },
  {
   "cell_type": "code",
   "execution_count": 119,
   "metadata": {},
   "outputs": [],
   "source": [
    "nearest = widgets.Textarea(\n",
    "    value='',\n",
    "    placeholder='Type a word',\n",
    "#     description='Please type a word',\n",
    "    disabled=False\n",
    ")\n",
    "nearest_output = widgets.HTML(\n",
    "    value=\"\",\n",
    "#     placeholder='Some HTML',\n",
    "#     description='Some HTML',\n",
    ")\n",
    "nearest_button = widgets.ToggleButton(\n",
    "    value=False,\n",
    "    description='is nearest to',\n",
    "    disabled=False,\n",
    "    button_style='', # 'success', 'info', 'warning', 'danger' or ''\n",
    "    tooltip='Description',\n",
    "#     icon='check' \n",
    ")\n",
    "def get_nearest(val):\n",
    "    if val:\n",
    "        word = nearest.value\n",
    "        if not word:\n",
    "            print('Empty word!')\n",
    "            return\n",
    "        w2v.nearest(word)\n",
    "        nearest_list = w2v.nearest_results[-1]\n",
    "        nearest_words = [i['word'] for i in nearest_list]\n",
    "        w_str = '<br>'.join(nearest_words)\n",
    "        nearest_output.value = w_str\n",
    "    nearest_button.value = False"
   ]
  },
  {
   "cell_type": "code",
   "execution_count": 120,
   "metadata": {},
   "outputs": [
    {
     "data": {
      "application/vnd.jupyter.widget-view+json": {
       "model_id": "823453b4080340028cf30edbd2836fe9",
       "version_major": 2,
       "version_minor": 0
      },
      "text/plain": [
       "VBox(children=(Textarea(value='', placeholder='Type a word'), ToggleButton(value=False, description='is neares…"
      ]
     },
     "metadata": {},
     "output_type": "display_data"
    }
   ],
   "source": [
    "out = widgets.interactive_output(get_nearest,{'val':nearest_button})\n",
    "widgets.VBox([nearest,nearest_button,nearest_output,out])"
   ]
  }
 ],
 "metadata": {
  "kernelspec": {
   "display_name": "Python 3",
   "language": "python",
   "name": "python3"
  },
  "language_info": {
   "codemirror_mode": {
    "name": "ipython",
    "version": 3
   },
   "file_extension": ".py",
   "mimetype": "text/x-python",
   "name": "python",
   "nbconvert_exporter": "python",
   "pygments_lexer": "ipython3",
   "version": "3.7.0"
  }
 },
 "nbformat": 4,
 "nbformat_minor": 4
}
