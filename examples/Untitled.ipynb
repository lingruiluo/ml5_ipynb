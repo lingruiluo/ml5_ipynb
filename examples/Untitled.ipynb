{
 "cells": [
  {
   "cell_type": "code",
   "execution_count": 1,
   "metadata": {},
   "outputs": [],
   "source": [
    "import cv2\n",
    "import os\n",
    "import numpy as np\n",
    "import matplotlib.pyplot as plt\n",
    "%matplotlib inline"
   ]
  },
  {
   "cell_type": "code",
   "execution_count": 2,
   "metadata": {},
   "outputs": [],
   "source": [
    "dobby = os.listdir('pic/dobby')[1:]\n",
    "zucchini = os.listdir('pic/zucchini')[1:]\n",
    "train = os.listdir('pic/train')[1:]\n",
    "dobby_list = ['pic/dobby/'+i for i in dobby]\n",
    "zucchini_list = ['pic/zucchini/'+i for i in zucchini]\n",
    "train_list = ['pic/train/'+i for i in train]"
   ]
  },
  {
   "cell_type": "code",
   "execution_count": 3,
   "metadata": {},
   "outputs": [],
   "source": [
    "from ml5_ipynb import ml5_image"
   ]
  },
  {
   "cell_type": "code",
   "execution_count": 4,
   "metadata": {},
   "outputs": [],
   "source": [
    "path = 'models/keras_trained/model.json'"
   ]
  },
  {
   "cell_type": "code",
   "execution_count": 9,
   "metadata": {},
   "outputs": [
    {
     "data": {
      "application/vnd.jupyter.widget-view+json": {
       "model_id": "ccc009262a33440e93c27174004f2333",
       "version_major": 2,
       "version_minor": 0
      },
      "text/plain": [
       "VBox(children=(imageClassifier(status='deferring flush until render'), Text(value='deferring flush until rende…"
      ]
     },
     "metadata": {},
     "output_type": "display_data"
    },
    {
     "name": "stdout",
     "output_type": "stream",
     "text": [
      "..............Model is ready\n"
     ]
    }
   ],
   "source": [
    "nn = ml5_image.imageClassifier(path)"
   ]
  },
  {
   "cell_type": "code",
   "execution_count": null,
   "metadata": {},
   "outputs": [],
   "source": []
  },
  {
   "cell_type": "code",
   "execution_count": null,
   "metadata": {},
   "outputs": [],
   "source": [
    "# nn1.js_init(\"\"\"\n",
    "#     let my_model = tf.loadLayersModel(path);\n",
    "#     element.nn_info.network = my_model;\n",
    "#     console.log(my_model);\n",
    "# \"\"\",path=path)"
   ]
  },
  {
   "cell_type": "code",
   "execution_count": null,
   "metadata": {},
   "outputs": [],
   "source": [
    "# nn1.js_init(\"\"\"\n",
    "\n",
    "#     //console.log(element.nn_info.network);\n",
    "#     element.nn_info.network.predict(tf.zeros([1, 192, 192, 3])).dispose();\n",
    "# \"\"\")"
   ]
  },
  {
   "cell_type": "code",
   "execution_count": null,
   "metadata": {},
   "outputs": [],
   "source": [
    "# nn1.js_init(\"\"\"\n",
    "#     let my_model;\n",
    "#     const demo = async () => {\n",
    "\n",
    "#       my_model = await tf.loadLayersModel(MODEL_PATH);\n",
    "\n",
    "#       // Warmup the model. This isn't necessary, but makes the first prediction\n",
    "#       // faster. Call `dispose` to release the WebGL memory allocated for the return\n",
    "#       // value of `predict`.\n",
    "#       //my_model.predict(tf.zeros([1, 192, 192, 3])).dispose();\n",
    "#     let img = new Image();\n",
    "#     img.src = img_path; \n",
    "#     img.width = 192;\n",
    "#     img.height = 192;\n",
    "#     async function predict(imgElement) {\n",
    "#           console.log('Predicting...');\n",
    "\n",
    "#           // The first start time includes the time it takes to extract the image\n",
    "#           // from the HTML and preprocess it, in additon to the predict() call.\n",
    "#           const startTime1 = performance.now();\n",
    "#           // The second start time excludes the extraction and preprocessing and\n",
    "#           // includes only the predict() call.\n",
    "#           let startTime2;\n",
    "#           const logits = tf.tidy(() => {\n",
    "#             // tf.browser.fromPixels() returns a Tensor from an image element.\n",
    "#             const img = tf.browser.fromPixels(imgElement).toFloat();\n",
    "\n",
    "#             const normalized = img.div(255.0);\n",
    "\n",
    "#             // Reshape to a single-element batch so we can pass it to predict.\n",
    "#             const batched = normalized.reshape([1, 192, 192, 3]);\n",
    "\n",
    "#             startTime2 = performance.now();\n",
    "#             // Make a prediction through my_model.\n",
    "#             return my_model.predict(batched);\n",
    "#           });\n",
    "\n",
    "#           // Convert logits to probabilities and class names.\n",
    "#           const classes = await getTopKClasses(logits);\n",
    "#           const totalTime1 = performance.now() - startTime1;\n",
    "#           const totalTime2 = performance.now() - startTime2;\n",
    "#           console.log(`Done in ${Math.floor(totalTime1)} ms ` +\n",
    "#               `(not including preprocessing: ${Math.floor(totalTime2)} ms)`);\n",
    "\n",
    "#         }\n",
    "#         async function getTopKClasses(logits) {\n",
    "#           const values = await logits.data();\n",
    "#           console.log(values);\n",
    "#         }\n",
    "#         predict(img);\n",
    "#     };\n",
    "#     demo();\n",
    "# \"\"\",MODEL_PATH=path, img_path=train_list[6])"
   ]
  }
 ],
 "metadata": {
  "kernelspec": {
   "display_name": "Python 3",
   "language": "python",
   "name": "python3"
  },
  "language_info": {
   "codemirror_mode": {
    "name": "ipython",
    "version": 3
   },
   "file_extension": ".py",
   "mimetype": "text/x-python",
   "name": "python",
   "nbconvert_exporter": "python",
   "pygments_lexer": "ipython3",
   "version": "3.7.0"
  }
 },
 "nbformat": 4,
 "nbformat_minor": 4
}
