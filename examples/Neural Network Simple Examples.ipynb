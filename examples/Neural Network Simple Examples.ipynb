{
 "cells": [
  {
   "cell_type": "code",
   "execution_count": 1,
   "metadata": {},
   "outputs": [],
   "source": [
    "from ml5_ipynb import ml5_init"
   ]
  },
  {
   "cell_type": "markdown",
   "metadata": {},
   "source": [
    "### Simple Color Classification"
   ]
  },
  {
   "cell_type": "code",
   "execution_count": 2,
   "metadata": {},
   "outputs": [
    {
     "data": {
      "application/vnd.jupyter.widget-view+json": {
       "model_id": "14ae52f2e0ab49408c6fe40060f75a9a",
       "version_major": 2,
       "version_minor": 0
      },
      "text/plain": [
       "VBox(children=(ML5Class(status='deferring flush until render'), Text(value='deferring flush until render', des…"
      ]
     },
     "metadata": {},
     "output_type": "display_data"
    },
    {
     "name": "stdout",
     "output_type": "stream",
     "text": [
      "."
     ]
    }
   ],
   "source": [
    "nn = ml5_init.ML5Class()\n",
    "nn.options['debug']=True\n",
    "nn.options['task']='classification'\n",
    "nn.initialize_framework()\n",
    "# test.debugging_display()"
   ]
  },
  {
   "cell_type": "code",
   "execution_count": 3,
   "metadata": {},
   "outputs": [],
   "source": [
    "data = [\n",
    "  {'r':255, 'g':1, 'b':0, 'color':'red-ish'},\n",
    "  {'r':254, 'g':0, 'b':0, 'color':'red-ish'},\n",
    "  {'r':253, 'g':0, 'b':0, 'color':'red-ish'},\n",
    "  {'r':0, 'g':0, 'b':255, 'color':'blue-ish'},\n",
    "  {'r':0, 'g':0, 'b':254, 'color':'blue-ish'},\n",
    "  {'r':0, 'g':0, 'b':253, 'color':'blue-ish'},\n",
    "]"
   ]
  },
  {
   "cell_type": "code",
   "execution_count": 4,
   "metadata": {},
   "outputs": [],
   "source": [
    "for d in data:\n",
    "    i = {'r':d['r'], 'g': d['g'], 'b': d['b']}\n",
    "    o = {'color': d['color']}\n",
    "    nn.add_data(i,o)"
   ]
  },
  {
   "cell_type": "code",
   "execution_count": 5,
   "metadata": {},
   "outputs": [
    {
     "name": "stdout",
     "output_type": "stream",
     "text": [
      ".........................................done\n"
     ]
    }
   ],
   "source": [
    "nn.normalize_data()\n",
    "trainingOptions = {\n",
    "  'epochs': 32,\n",
    "  'batchSize': 12\n",
    "}\n",
    "nn.train_data(trainingOptions)"
   ]
  },
  {
   "cell_type": "code",
   "execution_count": 6,
   "metadata": {},
   "outputs": [
    {
     "name": "stdout",
     "output_type": "stream",
     "text": [
      "..done\n"
     ]
    }
   ],
   "source": [
    "nn.classify_data({'r': 255, 'g': 0, 'b': 0})"
   ]
  },
  {
   "cell_type": "code",
   "execution_count": 7,
   "metadata": {},
   "outputs": [
    {
     "name": "stdout",
     "output_type": "stream",
     "text": [
      "..done\n"
     ]
    }
   ],
   "source": [
    "nn.classify_data({'r': 0, 'g': 0, 'b': 255})"
   ]
  },
  {
   "cell_type": "code",
   "execution_count": 8,
   "metadata": {},
   "outputs": [
    {
     "data": {
      "text/plain": [
       "[{'red-ish': 0.9594436287879944,\n",
       "  'label': 'red-ish',\n",
       "  'confidence': 0.9594436287879944},\n",
       " {'blue-ish': 0.040556494146585464,\n",
       "  'label': 'blue-ish',\n",
       "  'confidence': 0.040556494146585464}]"
      ]
     },
     "execution_count": 8,
     "metadata": {},
     "output_type": "execute_result"
    }
   ],
   "source": [
    "nn.classify_callback_list[0]"
   ]
  },
  {
   "cell_type": "code",
   "execution_count": 9,
   "metadata": {},
   "outputs": [
    {
     "data": {
      "text/plain": [
       "[{'blue-ish': 0.9019389152526855,\n",
       "  'label': 'blue-ish',\n",
       "  'confidence': 0.9019389152526855},\n",
       " {'red-ish': 0.09806107729673386,\n",
       "  'label': 'red-ish',\n",
       "  'confidence': 0.09806107729673386}]"
      ]
     },
     "execution_count": 9,
     "metadata": {},
     "output_type": "execute_result"
    }
   ],
   "source": [
    "nn.classify_callback_list[1]"
   ]
  },
  {
   "cell_type": "markdown",
   "metadata": {},
   "source": [
    "___________\n",
    "\n",
    "### Simple Classification"
   ]
  },
  {
   "cell_type": "code",
   "execution_count": 10,
   "metadata": {},
   "outputs": [
    {
     "data": {
      "application/vnd.jupyter.widget-view+json": {
       "model_id": "0dba6829f0074aa7a0a180b4e21b2b35",
       "version_major": 2,
       "version_minor": 0
      },
      "text/plain": [
       "VBox(children=(ML5Class(status='deferring flush until render'), Text(value='deferring flush until render', des…"
      ]
     },
     "metadata": {},
     "output_type": "display_data"
    },
    {
     "name": "stdout",
     "output_type": "stream",
     "text": [
      "."
     ]
    }
   ],
   "source": [
    "options = {\n",
    "  'inputs': 1,\n",
    "  'outputs': 2,\n",
    "  'task': 'classification',\n",
    "  'debug': True\n",
    "}\n",
    "nn1 = ml5_init.ML5Class(options)\n",
    "nn1.initialize_framework()"
   ]
  },
  {
   "cell_type": "code",
   "execution_count": 11,
   "metadata": {},
   "outputs": [],
   "source": [
    "import numpy as np\n",
    "for i in range(400):\n",
    "    if i%2==0:\n",
    "        x = np.random.randint(0, 200)\n",
    "        nn1.add_data( [x],  ['left'])\n",
    "    else:\n",
    "        x = np.random.randint(200,400)\n",
    "        nn1.add_data( [x],  ['right'])"
   ]
  },
  {
   "cell_type": "code",
   "execution_count": 12,
   "metadata": {},
   "outputs": [],
   "source": [
    "nn1.normalize_data()"
   ]
  },
  {
   "cell_type": "code",
   "execution_count": 13,
   "metadata": {},
   "outputs": [
    {
     "name": "stdout",
     "output_type": "stream",
     "text": [
      ".......................................................................done\n"
     ]
    }
   ],
   "source": [
    "trainingOptions={\n",
    "    'batchSize': 24,\n",
    "    'epochs': 32\n",
    "  }\n",
    "  \n",
    "nn1.train_data(trainingOptions)"
   ]
  },
  {
   "cell_type": "code",
   "execution_count": 14,
   "metadata": {},
   "outputs": [
    {
     "name": "stdout",
     "output_type": "stream",
     "text": [
      "..done\n"
     ]
    }
   ],
   "source": [
    "nn1.classify_data([300])"
   ]
  },
  {
   "cell_type": "code",
   "execution_count": 15,
   "metadata": {},
   "outputs": [
    {
     "data": {
      "text/plain": [
       "[[{'right': 0.9984588623046875,\n",
       "   'label': 'right',\n",
       "   'confidence': 0.9984588623046875},\n",
       "  {'left': 0.0015409841435030103,\n",
       "   'label': 'left',\n",
       "   'confidence': 0.0015409841435030103}]]"
      ]
     },
     "execution_count": 15,
     "metadata": {},
     "output_type": "execute_result"
    }
   ],
   "source": [
    "nn1.classify_callback_list"
   ]
  },
  {
   "cell_type": "code",
   "execution_count": null,
   "metadata": {},
   "outputs": [],
   "source": []
  }
 ],
 "metadata": {
  "kernelspec": {
   "display_name": "Python 3",
   "language": "python",
   "name": "python3"
  },
  "language_info": {
   "codemirror_mode": {
    "name": "ipython",
    "version": 3
   },
   "file_extension": ".py",
   "mimetype": "text/x-python",
   "name": "python",
   "nbconvert_exporter": "python",
   "pygments_lexer": "ipython3",
   "version": "3.7.0"
  }
 },
 "nbformat": 4,
 "nbformat_minor": 4
}
