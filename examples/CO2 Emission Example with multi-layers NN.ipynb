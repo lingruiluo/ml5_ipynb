{
 "cells": [
  {
   "cell_type": "code",
   "execution_count": 1,
   "metadata": {},
   "outputs": [],
   "source": [
    "from ml5_ipynb import ml5_nn\n",
    "import pandas as pd\n",
    "import numpy as np\n",
    "import matplotlib.pyplot as plt\n",
    "%matplotlib inline\n",
    "import random"
   ]
  },
  {
   "cell_type": "code",
   "execution_count": 2,
   "metadata": {},
   "outputs": [
    {
     "data": {
      "text/html": [
       "<div>\n",
       "<style scoped>\n",
       "    .dataframe tbody tr th:only-of-type {\n",
       "        vertical-align: middle;\n",
       "    }\n",
       "\n",
       "    .dataframe tbody tr th {\n",
       "        vertical-align: top;\n",
       "    }\n",
       "\n",
       "    .dataframe thead th {\n",
       "        text-align: right;\n",
       "    }\n",
       "</style>\n",
       "<table border=\"1\" class=\"dataframe\">\n",
       "  <thead>\n",
       "    <tr style=\"text-align: right;\">\n",
       "      <th></th>\n",
       "      <th>val</th>\n",
       "      <th>city_name</th>\n",
       "      <th>city_name_cdp</th>\n",
       "      <th>reporting_year_cdp</th>\n",
       "      <th>scope1_ghg_emissions_tons_co2e</th>\n",
       "      <th>year_of_emission</th>\n",
       "      <th>latitude_degrees</th>\n",
       "      <th>longitude_degrees</th>\n",
       "      <th>country</th>\n",
       "      <th>region</th>\n",
       "      <th>population_cdp</th>\n",
       "      <th>population_year_cdp</th>\n",
       "    </tr>\n",
       "  </thead>\n",
       "  <tbody>\n",
       "    <tr>\n",
       "      <th>0</th>\n",
       "      <td>1</td>\n",
       "      <td>Abington</td>\n",
       "      <td>Abington Township</td>\n",
       "      <td>2016</td>\n",
       "      <td>193345.0</td>\n",
       "      <td>2010</td>\n",
       "      <td>40.100</td>\n",
       "      <td>-75.099722</td>\n",
       "      <td>USA</td>\n",
       "      <td>North America</td>\n",
       "      <td>55310</td>\n",
       "      <td>2010</td>\n",
       "    </tr>\n",
       "    <tr>\n",
       "      <th>1</th>\n",
       "      <td>2</td>\n",
       "      <td>Addis Ababa</td>\n",
       "      <td>Addis Ababa City Administration</td>\n",
       "      <td>2016</td>\n",
       "      <td>3708292.0</td>\n",
       "      <td>2012</td>\n",
       "      <td>9.030</td>\n",
       "      <td>38.740000</td>\n",
       "      <td>Ethiopia</td>\n",
       "      <td>Africa</td>\n",
       "      <td>3384569</td>\n",
       "      <td>2008</td>\n",
       "    </tr>\n",
       "    <tr>\n",
       "      <th>2</th>\n",
       "      <td>3</td>\n",
       "      <td>Adelaide</td>\n",
       "      <td>City of Adelaide</td>\n",
       "      <td>2016</td>\n",
       "      <td>63724.0</td>\n",
       "      <td>2013</td>\n",
       "      <td>-34.929</td>\n",
       "      <td>138.601000</td>\n",
       "      <td>Australia</td>\n",
       "      <td>Oceania</td>\n",
       "      <td>23169</td>\n",
       "      <td>2015</td>\n",
       "    </tr>\n",
       "    <tr>\n",
       "      <th>3</th>\n",
       "      <td>7</td>\n",
       "      <td>Ajax, ON</td>\n",
       "      <td>Town of Ajax, ON</td>\n",
       "      <td>2016</td>\n",
       "      <td>6354.0</td>\n",
       "      <td>2008</td>\n",
       "      <td>43.858</td>\n",
       "      <td>-79.036389</td>\n",
       "      <td>Canada</td>\n",
       "      <td>North America</td>\n",
       "      <td>109600</td>\n",
       "      <td>2011</td>\n",
       "    </tr>\n",
       "    <tr>\n",
       "      <th>4</th>\n",
       "      <td>8</td>\n",
       "      <td>Albany</td>\n",
       "      <td>City of Albany</td>\n",
       "      <td>2017</td>\n",
       "      <td>663997.0</td>\n",
       "      <td>2010</td>\n",
       "      <td>42.653</td>\n",
       "      <td>-73.757222</td>\n",
       "      <td>USA</td>\n",
       "      <td>North America</td>\n",
       "      <td>97856</td>\n",
       "      <td>2010</td>\n",
       "    </tr>\n",
       "  </tbody>\n",
       "</table>\n",
       "</div>"
      ],
      "text/plain": [
       "   val    city_name                    city_name_cdp  reporting_year_cdp  \\\n",
       "0    1     Abington                Abington Township                2016   \n",
       "1    2  Addis Ababa  Addis Ababa City Administration                2016   \n",
       "2    3     Adelaide                 City of Adelaide                2016   \n",
       "3    7     Ajax, ON                 Town of Ajax, ON                2016   \n",
       "4    8       Albany                   City of Albany                2017   \n",
       "\n",
       "   scope1_ghg_emissions_tons_co2e  year_of_emission  latitude_degrees  \\\n",
       "0                        193345.0              2010            40.100   \n",
       "1                       3708292.0              2012             9.030   \n",
       "2                         63724.0              2013           -34.929   \n",
       "3                          6354.0              2008            43.858   \n",
       "4                        663997.0              2010            42.653   \n",
       "\n",
       "   longitude_degrees    country         region  population_cdp  \\\n",
       "0         -75.099722        USA  North America           55310   \n",
       "1          38.740000   Ethiopia         Africa         3384569   \n",
       "2         138.601000  Australia        Oceania           23169   \n",
       "3         -79.036389     Canada  North America          109600   \n",
       "4         -73.757222        USA  North America           97856   \n",
       "\n",
       "   population_year_cdp  \n",
       "0                 2010  \n",
       "1                 2008  \n",
       "2                 2015  \n",
       "3                 2011  \n",
       "4                 2010  "
      ]
     },
     "execution_count": 2,
     "metadata": {},
     "output_type": "execute_result"
    }
   ],
   "source": [
    "df = pd.read_csv('data/co2stats.csv')\n",
    "df.head()"
   ]
  },
  {
   "cell_type": "code",
   "execution_count": 3,
   "metadata": {},
   "outputs": [],
   "source": [
    "data = df[['population_cdp','scope1_ghg_emissions_tons_co2e']].to_dict('list')\n",
    "x = np.asarray(data['population_cdp'])\n",
    "y = np.asarray(data['scope1_ghg_emissions_tons_co2e'])"
   ]
  },
  {
   "cell_type": "code",
   "execution_count": 22,
   "metadata": {},
   "outputs": [
    {
     "data": {
      "application/vnd.jupyter.widget-view+json": {
       "model_id": "8f19cbd33ae245288b1eb9bf4e9c8fb3",
       "version_major": 2,
       "version_minor": 0
      },
      "text/plain": [
       "VBox(children=(neuralNetwork(status='deferring flush until render'), Text(value='deferring flush until render'…"
      ]
     },
     "metadata": {},
     "output_type": "display_data"
    }
   ],
   "source": [
    "options = dict(\n",
    "  inputs=['population_cdp'],\n",
    "  outputs=['scope1_ghg_emissions_tons_co2e'],\n",
    "  task='regression',\n",
    "  learningRate= 0.01,\n",
    "  debug=True\n",
    ")\n",
    "\n",
    "nn = ml5_nn.neuralNetwork(options)"
   ]
  },
  {
   "cell_type": "code",
   "execution_count": 23,
   "metadata": {},
   "outputs": [],
   "source": [
    "layers = [dict(\n",
    "            type = 'dense',\n",
    "            units = 64,\n",
    "            activation='relu',\n",
    "            ),\n",
    "          dict(\n",
    "            type = 'dense',\n",
    "            units = 128,\n",
    "            activation='relu',\n",
    "          ),\n",
    "          dict(\n",
    "            type='dense',\n",
    "            units = 64,\n",
    "            activation='sigmoid',\n",
    "          ),\n",
    "          dict(\n",
    "            type='dense',\n",
    "            activation='sigmoid',\n",
    "          )\n",
    "    ]\n",
    "nn.add_layer(layers)"
   ]
  },
  {
   "cell_type": "code",
   "execution_count": 24,
   "metadata": {},
   "outputs": [],
   "source": [
    "nn.initialize_framework()"
   ]
  },
  {
   "cell_type": "code",
   "execution_count": 25,
   "metadata": {},
   "outputs": [],
   "source": [
    "# add data\n",
    "for i in range(len(x)):\n",
    "    inp = {'population_cdp':x[i]}\n",
    "    outp = {'scope1_ghg_emissions_tons_co2e':y[i]}\n",
    "    nn.add_data(inp,outp)"
   ]
  },
  {
   "cell_type": "code",
   "execution_count": 26,
   "metadata": {},
   "outputs": [
    {
     "name": "stdout",
     "output_type": "stream",
     "text": [
      ".................................................................................................................................................................................................................................................................................................................................................................................................................................................................................................................................done\n"
     ]
    }
   ],
   "source": [
    "nn.normalize_data()\n",
    "trainingOptions = {'epochs': 50, 'batchSize' : 12}\n",
    "nn.train_data(trainingOptions)"
   ]
  },
  {
   "cell_type": "code",
   "execution_count": 27,
   "metadata": {},
   "outputs": [],
   "source": [
    "testInputs = [\n",
    "  100,\n",
    "  50000,\n",
    "  100000,\n",
    "  500000,\n",
    "  2500000,\n",
    "  5000000,\n",
    "  10000000,\n",
    "  15000000,\n",
    "]"
   ]
  },
  {
   "cell_type": "code",
   "execution_count": 28,
   "metadata": {},
   "outputs": [],
   "source": [
    "for i in range(len(testInputs)):\n",
    "    inp = {'population_cdp':testInputs[i]}\n",
    "    nn.predict_data(inp)"
   ]
  },
  {
   "cell_type": "code",
   "execution_count": 29,
   "metadata": {},
   "outputs": [],
   "source": [
    "predict_y = [i[0]['value'] for i in nn.predict_callback_list]"
   ]
  },
  {
   "cell_type": "code",
   "execution_count": 30,
   "metadata": {},
   "outputs": [
    {
     "data": {
      "text/plain": [
       "[4201150.093477726,\n",
       " 4246993.416754544,\n",
       " 4293384.188465536,\n",
       " 4681593.505593479,\n",
       " 7138428.546048343,\n",
       " 11681371.105821967,\n",
       " 26008435.50432849,\n",
       " 41910977.36794186]"
      ]
     },
     "execution_count": 30,
     "metadata": {},
     "output_type": "execute_result"
    }
   ],
   "source": [
    "predict_y"
   ]
  },
  {
   "cell_type": "code",
   "execution_count": 31,
   "metadata": {},
   "outputs": [],
   "source": [
    "# test on train data\n",
    "nn.predict_callback_list = []\n",
    "for i in range(len(x)):\n",
    "    inp = {'population_cdp':x[i]}\n",
    "    nn.predict_data(inp)"
   ]
  },
  {
   "cell_type": "code",
   "execution_count": 33,
   "metadata": {},
   "outputs": [],
   "source": [
    "predict_train_y = [i[0]['value'] for i in nn.predict_callback_list]"
   ]
  },
  {
   "cell_type": "code",
   "execution_count": 40,
   "metadata": {},
   "outputs": [
    {
     "data": {
      "text/plain": [
       "7342124.718805574"
      ]
     },
     "execution_count": 40,
     "metadata": {},
     "output_type": "execute_result"
    }
   ],
   "source": [
    "np.sqrt(np.mean((np.asarray(predict_train_y)-y)**2))"
   ]
  },
  {
   "cell_type": "code",
   "execution_count": 49,
   "metadata": {},
   "outputs": [
    {
     "data": {
      "text/plain": [
       "<matplotlib.legend.Legend at 0x7fcf0c38c5f8>"
      ]
     },
     "execution_count": 49,
     "metadata": {},
     "output_type": "execute_result"
    },
    {
     "data": {
      "image/png": "[encoded data removed]",
      "text/plain": [
       "<Figure size 432x288 with 1 Axes>"
      ]
     },
     "metadata": {
      "needs_background": "light"
     },
     "output_type": "display_data"
    }
   ],
   "source": [
    "plt.plot(x,y,'.r', label='true')\n",
    "plt.plot(x,predict_train_y,'.b', label='prediction')\n",
    "plt.xlabel('population_cdp')\n",
    "plt.ylabel('scope1_ghg_emissions_tons_co2e')\n",
    "plt.title('scope1_ghg_emissions_tons_co2e VS population_cdp')\n",
    "plt.legend()"
   ]
  }
 ],
 "metadata": {
  "kernelspec": {
   "display_name": "Python 3",
   "language": "python",
   "name": "python3"
  },
  "language_info": {
   "codemirror_mode": {
    "name": "ipython",
    "version": 3
   },
   "file_extension": ".py",
   "mimetype": "text/x-python",
   "name": "python",
   "nbconvert_exporter": "python",
   "pygments_lexer": "ipython3",
   "version": "3.7.0"
  }
 },
 "nbformat": 4,
 "nbformat_minor": 4
}
