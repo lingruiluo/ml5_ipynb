{
 "cells": [
  {
   "cell_type": "markdown",
   "metadata": {},
   "source": [
    "# CO2 Emission Example with Multi-Layers Neural Network\n",
    "\n",
    "This example can refer to [co2 example at ml5.js](https://github.com/ml5js/ml5-library/tree/main/examples/p5js/NeuralNetwork/NeuralNetwork_co2net). Only `population_cdp` and `latitude_degrees`,`longitude_degrees`, and `scope1_ghg_emissions_tons_co2e` are used to train the model, which is to estimate non-linear relationship between them. \n",
    "\n",
    "**Note: The dataset is quite small in this example which gives brife introduction of how to use multi-layer network. In practice, neural network needs much larger amount of data to train.**"
   ]
  },
  {
   "cell_type": "code",
   "execution_count": 1,
   "metadata": {},
   "outputs": [],
   "source": [
    "from ml5_ipynb import ml5_nn\n",
    "import pandas as pd\n",
    "import numpy as np\n",
    "import matplotlib.pyplot as plt\n",
    "%matplotlib inline\n",
    "import random"
   ]
  },
  {
   "cell_type": "code",
   "execution_count": 34,
   "metadata": {},
   "outputs": [
    {
     "data": {
      "text/html": [
       "<div>\n",
       "<style scoped>\n",
       "    .dataframe tbody tr th:only-of-type {\n",
       "        vertical-align: middle;\n",
       "    }\n",
       "\n",
       "    .dataframe tbody tr th {\n",
       "        vertical-align: top;\n",
       "    }\n",
       "\n",
       "    .dataframe thead th {\n",
       "        text-align: right;\n",
       "    }\n",
       "</style>\n",
       "<table border=\"1\" class=\"dataframe\">\n",
       "  <thead>\n",
       "    <tr style=\"text-align: right;\">\n",
       "      <th></th>\n",
       "      <th>val</th>\n",
       "      <th>city_name</th>\n",
       "      <th>city_name_cdp</th>\n",
       "      <th>reporting_year_cdp</th>\n",
       "      <th>scope1_ghg_emissions_tons_co2e</th>\n",
       "      <th>year_of_emission</th>\n",
       "      <th>latitude_degrees</th>\n",
       "      <th>longitude_degrees</th>\n",
       "      <th>country</th>\n",
       "      <th>region</th>\n",
       "      <th>population_cdp</th>\n",
       "      <th>population_year_cdp</th>\n",
       "    </tr>\n",
       "  </thead>\n",
       "  <tbody>\n",
       "    <tr>\n",
       "      <th>0</th>\n",
       "      <td>1</td>\n",
       "      <td>Abington</td>\n",
       "      <td>Abington Township</td>\n",
       "      <td>2016</td>\n",
       "      <td>193345.00</td>\n",
       "      <td>2010</td>\n",
       "      <td>40.100</td>\n",
       "      <td>-75.099722</td>\n",
       "      <td>USA</td>\n",
       "      <td>North America</td>\n",
       "      <td>55310</td>\n",
       "      <td>2010</td>\n",
       "    </tr>\n",
       "    <tr>\n",
       "      <th>1</th>\n",
       "      <td>2</td>\n",
       "      <td>Addis Ababa</td>\n",
       "      <td>Addis Ababa City Administration</td>\n",
       "      <td>2016</td>\n",
       "      <td>3708292.00</td>\n",
       "      <td>2012</td>\n",
       "      <td>9.030</td>\n",
       "      <td>38.740000</td>\n",
       "      <td>Ethiopia</td>\n",
       "      <td>Africa</td>\n",
       "      <td>3384569</td>\n",
       "      <td>2008</td>\n",
       "    </tr>\n",
       "    <tr>\n",
       "      <th>2</th>\n",
       "      <td>3</td>\n",
       "      <td>Adelaide</td>\n",
       "      <td>City of Adelaide</td>\n",
       "      <td>2016</td>\n",
       "      <td>63724.00</td>\n",
       "      <td>2013</td>\n",
       "      <td>-34.929</td>\n",
       "      <td>138.601000</td>\n",
       "      <td>Australia</td>\n",
       "      <td>Oceania</td>\n",
       "      <td>23169</td>\n",
       "      <td>2015</td>\n",
       "    </tr>\n",
       "    <tr>\n",
       "      <th>3</th>\n",
       "      <td>7</td>\n",
       "      <td>Ajax, ON</td>\n",
       "      <td>Town of Ajax, ON</td>\n",
       "      <td>2016</td>\n",
       "      <td>6354.00</td>\n",
       "      <td>2008</td>\n",
       "      <td>43.858</td>\n",
       "      <td>-79.036389</td>\n",
       "      <td>Canada</td>\n",
       "      <td>North America</td>\n",
       "      <td>109600</td>\n",
       "      <td>2011</td>\n",
       "    </tr>\n",
       "    <tr>\n",
       "      <th>4</th>\n",
       "      <td>8</td>\n",
       "      <td>Albany</td>\n",
       "      <td>City of Albany</td>\n",
       "      <td>2017</td>\n",
       "      <td>663997.00</td>\n",
       "      <td>2010</td>\n",
       "      <td>42.653</td>\n",
       "      <td>-73.757222</td>\n",
       "      <td>USA</td>\n",
       "      <td>North America</td>\n",
       "      <td>97856</td>\n",
       "      <td>2010</td>\n",
       "    </tr>\n",
       "    <tr>\n",
       "      <th>...</th>\n",
       "      <td>...</td>\n",
       "      <td>...</td>\n",
       "      <td>...</td>\n",
       "      <td>...</td>\n",
       "      <td>...</td>\n",
       "      <td>...</td>\n",
       "      <td>...</td>\n",
       "      <td>...</td>\n",
       "      <td>...</td>\n",
       "      <td>...</td>\n",
       "      <td>...</td>\n",
       "      <td>...</td>\n",
       "    </tr>\n",
       "    <tr>\n",
       "      <th>145</th>\n",
       "      <td>315</td>\n",
       "      <td>Winnipeg</td>\n",
       "      <td>City of Winnipeg</td>\n",
       "      <td>2016</td>\n",
       "      <td>5167453.00</td>\n",
       "      <td>1998</td>\n",
       "      <td>49.899</td>\n",
       "      <td>-97.139167</td>\n",
       "      <td>Canada</td>\n",
       "      <td>North America</td>\n",
       "      <td>718400</td>\n",
       "      <td>2015</td>\n",
       "    </tr>\n",
       "    <tr>\n",
       "      <th>146</th>\n",
       "      <td>327</td>\n",
       "      <td>Yilan</td>\n",
       "      <td>Yilan County</td>\n",
       "      <td>2016</td>\n",
       "      <td>6911264.55</td>\n",
       "      <td>2013</td>\n",
       "      <td>24.751</td>\n",
       "      <td>121.759167</td>\n",
       "      <td>Taiwan</td>\n",
       "      <td>East Asia</td>\n",
       "      <td>458777</td>\n",
       "      <td>2014</td>\n",
       "    </tr>\n",
       "    <tr>\n",
       "      <th>147</th>\n",
       "      <td>329</td>\n",
       "      <td>Yokohama</td>\n",
       "      <td>City of Yokohama</td>\n",
       "      <td>2016</td>\n",
       "      <td>12572000.00</td>\n",
       "      <td>2013</td>\n",
       "      <td>35.444</td>\n",
       "      <td>139.638056</td>\n",
       "      <td>Japan</td>\n",
       "      <td>East Asia</td>\n",
       "      <td>3719589</td>\n",
       "      <td>2015</td>\n",
       "    </tr>\n",
       "    <tr>\n",
       "      <th>148</th>\n",
       "      <td>330</td>\n",
       "      <td>Yonkers</td>\n",
       "      <td>City of Yonkers</td>\n",
       "      <td>2016</td>\n",
       "      <td>982940.00</td>\n",
       "      <td>2010</td>\n",
       "      <td>40.941</td>\n",
       "      <td>-73.864444</td>\n",
       "      <td>USA</td>\n",
       "      <td>North America</td>\n",
       "      <td>199766</td>\n",
       "      <td>2013</td>\n",
       "    </tr>\n",
       "    <tr>\n",
       "      <th>149</th>\n",
       "      <td>331</td>\n",
       "      <td>Zaragoza</td>\n",
       "      <td>City of Zaragoza</td>\n",
       "      <td>2016</td>\n",
       "      <td>1175162.74</td>\n",
       "      <td>2014</td>\n",
       "      <td>41.650</td>\n",
       "      <td>-0.883333</td>\n",
       "      <td>Spain</td>\n",
       "      <td>Europe</td>\n",
       "      <td>661108</td>\n",
       "      <td>2015</td>\n",
       "    </tr>\n",
       "  </tbody>\n",
       "</table>\n",
       "<p>150 rows × 12 columns</p>\n",
       "</div>"
      ],
      "text/plain": [
       "     val    city_name                    city_name_cdp  reporting_year_cdp  \\\n",
       "0      1     Abington                Abington Township                2016   \n",
       "1      2  Addis Ababa  Addis Ababa City Administration                2016   \n",
       "2      3     Adelaide                 City of Adelaide                2016   \n",
       "3      7     Ajax, ON                 Town of Ajax, ON                2016   \n",
       "4      8       Albany                   City of Albany                2017   \n",
       "..   ...          ...                              ...                 ...   \n",
       "145  315     Winnipeg                 City of Winnipeg                2016   \n",
       "146  327        Yilan                     Yilan County                2016   \n",
       "147  329     Yokohama                 City of Yokohama                2016   \n",
       "148  330      Yonkers                  City of Yonkers                2016   \n",
       "149  331     Zaragoza                 City of Zaragoza                2016   \n",
       "\n",
       "     scope1_ghg_emissions_tons_co2e  year_of_emission  latitude_degrees  \\\n",
       "0                         193345.00              2010            40.100   \n",
       "1                        3708292.00              2012             9.030   \n",
       "2                          63724.00              2013           -34.929   \n",
       "3                           6354.00              2008            43.858   \n",
       "4                         663997.00              2010            42.653   \n",
       "..                              ...               ...               ...   \n",
       "145                      5167453.00              1998            49.899   \n",
       "146                      6911264.55              2013            24.751   \n",
       "147                     12572000.00              2013            35.444   \n",
       "148                       982940.00              2010            40.941   \n",
       "149                      1175162.74              2014            41.650   \n",
       "\n",
       "     longitude_degrees    country         region  population_cdp  \\\n",
       "0           -75.099722        USA  North America           55310   \n",
       "1            38.740000   Ethiopia         Africa         3384569   \n",
       "2           138.601000  Australia        Oceania           23169   \n",
       "3           -79.036389     Canada  North America          109600   \n",
       "4           -73.757222        USA  North America           97856   \n",
       "..                 ...        ...            ...             ...   \n",
       "145         -97.139167     Canada  North America          718400   \n",
       "146         121.759167     Taiwan      East Asia          458777   \n",
       "147         139.638056      Japan      East Asia         3719589   \n",
       "148         -73.864444        USA  North America          199766   \n",
       "149          -0.883333      Spain         Europe          661108   \n",
       "\n",
       "     population_year_cdp  \n",
       "0                   2010  \n",
       "1                   2008  \n",
       "2                   2015  \n",
       "3                   2011  \n",
       "4                   2010  \n",
       "..                   ...  \n",
       "145                 2015  \n",
       "146                 2014  \n",
       "147                 2015  \n",
       "148                 2013  \n",
       "149                 2015  \n",
       "\n",
       "[150 rows x 12 columns]"
      ]
     },
     "execution_count": 34,
     "metadata": {},
     "output_type": "execute_result"
    }
   ],
   "source": [
    "df = pd.read_csv('data/co2stats.csv')\n",
    "df"
   ]
  },
  {
   "cell_type": "markdown",
   "metadata": {},
   "source": [
    "`scope1_ghg_emissions_tons_co2e` is the target variable.   \n",
    "The default layers for regression task is as followed (refer to ml5.js):\n",
    "```\n",
    "layers: [\n",
    "  {\n",
    "    type: 'dense',\n",
    "    units: this.options.hiddenUnits,\n",
    "    activation: 'relu',\n",
    "  },\n",
    "  {\n",
    "    type: 'dense',\n",
    "    activation: 'sigmoid',\n",
    "  },\n",
    "];\n",
    "```\n",
    "\n",
    "We will add one more dense layer after the first dense layer. \n",
    "```\n",
    "layers = [dict(\n",
    "            type = 'dense',\n",
    "            units = 64,\n",
    "            activation='relu',\n",
    "            ),\n",
    "          dict(\n",
    "            type = 'dense',\n",
    "            units = 128,\n",
    "            activation='relu',\n",
    "          ),\n",
    "          dict(\n",
    "            type='dense',\n",
    "            activation='sigmoid',\n",
    "          )\n",
    "    ]\n",
    "```"
   ]
  },
  {
   "cell_type": "code",
   "execution_count": 37,
   "metadata": {},
   "outputs": [],
   "source": [
    "data = df[['population_cdp','scope1_ghg_emissions_tons_co2e','latitude_degrees','longitude_degrees']].to_dict('list')\n",
    "x = np.asarray([data['population_cdp'],data['latitude_degrees'],data['longitude_degrees']])\n",
    "y = np.asarray(data['scope1_ghg_emissions_tons_co2e'])"
   ]
  },
  {
   "cell_type": "code",
   "execution_count": 64,
   "metadata": {},
   "outputs": [
    {
     "data": {
      "application/vnd.jupyter.widget-view+json": {
       "model_id": "b106aa3dabf4437b8094ea940d0e319f",
       "version_major": 2,
       "version_minor": 0
      },
      "text/plain": [
       "VBox(children=(neuralNetwork(status='deferring flush until render'), Text(value='deferring flush until render'…"
      ]
     },
     "metadata": {},
     "output_type": "display_data"
    }
   ],
   "source": [
    "options = dict(\n",
    "  inputs=['population_cdp','latitude_degrees','longitude_degrees'],\n",
    "  outputs=['scope1_ghg_emissions_tons_co2e'],\n",
    "  task='regression',\n",
    "  learningRate= 0.001,\n",
    "  debug=True\n",
    ")\n",
    "\n",
    "nn = ml5_nn.neuralNetwork(options)"
   ]
  },
  {
   "cell_type": "code",
   "execution_count": 65,
   "metadata": {},
   "outputs": [],
   "source": [
    "layers = [dict(\n",
    "            type = 'dense',\n",
    "            units = 64,\n",
    "            activation='relu',\n",
    "            ),\n",
    "          dict(\n",
    "            type = 'dense',\n",
    "            units = 128,\n",
    "            activation='relu',\n",
    "          ),\n",
    "          dict(\n",
    "            type='dense',\n",
    "            activation='sigmoid',\n",
    "          )\n",
    "    ]\n",
    "nn.add_layer(layers)"
   ]
  },
  {
   "cell_type": "code",
   "execution_count": 66,
   "metadata": {},
   "outputs": [
    {
     "name": "stdout",
     "output_type": "stream",
     "text": [
      ".Model is created\n"
     ]
    }
   ],
   "source": [
    "nn.initialize_framework()"
   ]
  },
  {
   "cell_type": "code",
   "execution_count": 67,
   "metadata": {},
   "outputs": [],
   "source": [
    "# add data\n",
    "for i in range(len(x)):\n",
    "    inp = {'population_cdp':x[0][i],'latitude_degrees':x[1][i],'longitude_degrees':x[2][i]}\n",
    "    outp = {'scope1_ghg_emissions_tons_co2e':y[i]}\n",
    "    nn.add_data(inp,outp)"
   ]
  },
  {
   "cell_type": "code",
   "execution_count": 68,
   "metadata": {},
   "outputs": [
    {
     "name": "stdout",
     "output_type": "stream",
     "text": [
      "............................................................................................................................................................................................................................................................................................................................................................................................................................................................................................................................................................................................................................................................................................................................................................................................................................................................................................................................................................................................................................................................................................................................................................................................................................................................................................................................................................................................................................................................................................................................................................................................................................................................................................................................................................................................done\n"
     ]
    }
   ],
   "source": [
    "nn.normalize_data()\n",
    "trainingOptions = {'epochs': 500, 'batchSize' : 12}\n",
    "nn.train_data(trainingOptions)"
   ]
  },
  {
   "cell_type": "markdown",
   "metadata": {},
   "source": [
    "In the following, several data sampled from the training data will be tested. "
   ]
  },
  {
   "cell_type": "code",
   "execution_count": 69,
   "metadata": {},
   "outputs": [
    {
     "name": "stdout",
     "output_type": "stream",
     "text": [
      "done\n",
      "done\n",
      "done\n",
      "done\n",
      "done\n",
      "done\n",
      "done\n",
      "done\n",
      "done\n",
      "done\n"
     ]
    }
   ],
   "source": [
    "import random\n",
    "random.seed(8)\n",
    "test = random.sample(range(x.shape[1]),10)\n",
    "for idx in test:\n",
    "    i = x[0][idx]\n",
    "    j = x[1][idx]\n",
    "    k = x[2][idx]\n",
    "    inp = {'population_cdp':i, 'latitude_degrees':j,'longitude_degrees':k}\n",
    "    nn.predict_data(inp)"
   ]
  },
  {
   "cell_type": "code",
   "execution_count": 81,
   "metadata": {},
   "outputs": [
    {
     "data": {
      "text/plain": [
       "[[{'scope1_ghg_emissions_tons_co2e': 1526106.384295702,\n",
       "   'label': 'scope1_ghg_emissions_tons_co2e',\n",
       "   'value': 1526106.384295702,\n",
       "   'unNormalizedValue': 0.40124985575675964}],\n",
       " [{'scope1_ghg_emissions_tons_co2e': 253180.98616099358,\n",
       "   'label': 'scope1_ghg_emissions_tons_co2e',\n",
       "   'value': 253180.98616099358,\n",
       "   'unNormalizedValue': 0.051983386278152466}]]"
      ]
     },
     "execution_count": 81,
     "metadata": {},
     "output_type": "execute_result"
    }
   ],
   "source": [
    "nn.predict_callback_list[:2]"
   ]
  },
  {
   "cell_type": "code",
   "execution_count": 70,
   "metadata": {},
   "outputs": [],
   "source": [
    "predict_y = [i[0]['value'] for i in nn.predict_callback_list]"
   ]
  },
  {
   "cell_type": "code",
   "execution_count": 71,
   "metadata": {},
   "outputs": [
    {
     "data": {
      "text/plain": [
       "[1526106.384295702,\n",
       " 253180.98616099358,\n",
       " 474797.1452830434,\n",
       " 1683313.4754884243,\n",
       " 334884.1505545974,\n",
       " 3608117.7426133156,\n",
       " 385637.42479747534,\n",
       " 3143713.6070075035,\n",
       " 619366.9405584335,\n",
       " 2637223.5838475227]"
      ]
     },
     "execution_count": 71,
     "metadata": {},
     "output_type": "execute_result"
    }
   ],
   "source": [
    "predict_y"
   ]
  },
  {
   "cell_type": "code",
   "execution_count": 77,
   "metadata": {},
   "outputs": [
    {
     "data": {
      "text/plain": [
       "6987353.307977332"
      ]
     },
     "execution_count": 77,
     "metadata": {},
     "output_type": "execute_result"
    }
   ],
   "source": [
    "np.sqrt(np.mean((np.asarray(predict_y)-y[test])**2))"
   ]
  },
  {
   "cell_type": "code",
   "execution_count": 79,
   "metadata": {},
   "outputs": [
    {
     "data": {
      "text/plain": [
       "<matplotlib.legend.Legend at 0x7faff6c7d2e8>"
      ]
     },
     "execution_count": 79,
     "metadata": {},
     "output_type": "execute_result"
    },
    {
     "data": {
      "image/png": "[encoded data removed]",
      "text/plain": [
       "<Figure size 432x288 with 1 Axes>"
      ]
     },
     "metadata": {
      "needs_background": "light"
     },
     "output_type": "display_data"
    }
   ],
   "source": [
    "plt.plot(x[0][test],y[test],'.r', label='true')\n",
    "plt.plot(x[0][test],predict_y,'.b', label='prediction')\n",
    "plt.xlabel('population_cdp')\n",
    "plt.ylabel('scope1_ghg_emissions_tons_co2e')\n",
    "plt.title('scope1_ghg_emissions_tons_co2e VS population_cdp')\n",
    "plt.legend()"
   ]
  },
  {
   "cell_type": "markdown",
   "metadata": {},
   "source": [
    "The plot above indicates how the model perform on the test data using `population_cdp` as x axis. The MSE of prediction is around 6987353.\n",
    "\n",
    "Since the data is quite small, the network is very easy to overfit on the data. Also, in strict setting, test data is recommended to use unseen data. "
   ]
  }
 ],
 "metadata": {
  "kernelspec": {
   "display_name": "Python 3",
   "language": "python",
   "name": "python3"
  },
  "language_info": {
   "codemirror_mode": {
    "name": "ipython",
    "version": 3
   },
   "file_extension": ".py",
   "mimetype": "text/x-python",
   "name": "python",
   "nbconvert_exporter": "python",
   "pygments_lexer": "ipython3",
   "version": "3.7.0"
  }
 },
 "nbformat": 4,
 "nbformat_minor": 4
}
