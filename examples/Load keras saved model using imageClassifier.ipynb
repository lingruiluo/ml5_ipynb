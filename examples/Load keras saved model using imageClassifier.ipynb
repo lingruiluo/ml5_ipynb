{
 "cells": [
  {
   "cell_type": "code",
   "execution_count": 1,
   "metadata": {},
   "outputs": [],
   "source": [
    "import cv2\n",
    "import os\n",
    "import numpy as np\n",
    "import matplotlib.pyplot as plt\n",
    "import ipywidgets as widgets\n",
    "%matplotlib inline"
   ]
  },
  {
   "cell_type": "code",
   "execution_count": 2,
   "metadata": {},
   "outputs": [],
   "source": [
    "dobby = os.listdir('pic/dobby')[1:]\n",
    "zucchini = os.listdir('pic/zucchini')[1:]\n",
    "train = os.listdir('pic/train')[1:]\n",
    "dobby_list = ['pic/dobby/'+i for i in dobby]\n",
    "zucchini_list = ['pic/zucchini/'+i for i in zucchini]\n",
    "train_list = ['pic/train/'+i for i in train]"
   ]
  },
  {
   "cell_type": "code",
   "execution_count": 3,
   "metadata": {},
   "outputs": [],
   "source": [
    "from ml5_ipynb import ml5_image"
   ]
  },
  {
   "cell_type": "code",
   "execution_count": 4,
   "metadata": {},
   "outputs": [],
   "source": [
    "path = 'models/keras_trained/model.json'"
   ]
  },
  {
   "cell_type": "code",
   "execution_count": 5,
   "metadata": {},
   "outputs": [
    {
     "data": {
      "application/vnd.jupyter.widget-view+json": {
       "model_id": "502ce0a01f044fc182a8ae5c610768cc",
       "version_major": 2,
       "version_minor": 0
      },
      "text/plain": [
       "VBox(children=(imageClassifier(status='deferring flush until render'), Text(value='deferring flush until rende…"
      ]
     },
     "metadata": {},
     "output_type": "display_data"
    },
    {
     "name": "stdout",
     "output_type": "stream",
     "text": [
      "..............Model is ready\n"
     ]
    }
   ],
   "source": [
    "nn = ml5_image.imageClassifier()"
   ]
  },
  {
   "cell_type": "code",
   "execution_count": 6,
   "metadata": {},
   "outputs": [
    {
     "name": "stdout",
     "output_type": "stream",
     "text": [
      "..Model is ready\n"
     ]
    }
   ],
   "source": [
    "nn.keras_loadModel(path)"
   ]
  },
  {
   "cell_type": "code",
   "execution_count": 7,
   "metadata": {},
   "outputs": [],
   "source": [
    "def predict(input_img, label):\n",
    "    class_dict = {'0':'dobby','1':'train','2':'zucchini'}\n",
    "    nn.keras_predict(input_img,[192,192,3])\n",
    "    pred, confidence = sorted(nn.classify_callback_list[-1].items(),key= lambda x:-x[1])[0]\n",
    "    file = open(input_img, \"rb\")\n",
    "    image = file.read()\n",
    "    img_wig = widgets.Image(\n",
    "        value=image,\n",
    "        format='png',\n",
    "        width=192,\n",
    "        height=192,\n",
    "    )\n",
    "\n",
    "    true_wig = widgets.HTML(\n",
    "        value = label,\n",
    "        placeholder='',\n",
    "        description='True',\n",
    "        color = 'red'\n",
    "    )\n",
    "    pred_wig = widgets.HTML(\n",
    "        value=f'{class_dict[pred]} ({confidence*100}%)',\n",
    "        placeholder='',\n",
    "        description='Prediction',\n",
    "    )\n",
    "    return widgets.Box([img_wig, widgets.VBox([true_wig, pred_wig])])"
   ]
  },
  {
   "cell_type": "code",
   "execution_count": 21,
   "metadata": {},
   "outputs": [
    {
     "name": "stdout",
     "output_type": "stream",
     "text": [
      "..done\n"
     ]
    },
    {
     "data": {
      "application/vnd.jupyter.widget-view+json": {
       "model_id": "68c569de2e2c4e5484da4a291d4c1c74",
       "version_major": 2,
       "version_minor": 0
      },
      "text/plain": [
       "Box(children=(Image(value=b'\\xff\\xd8\\xff\\xe0\\x00\\x10JFIF\\x00\\x01\\x01\\x00\\x00\\x01\\x00\\x01\\x00\\x00\\xff\\xdb\\x00C\\…"
      ]
     },
     "metadata": {},
     "output_type": "display_data"
    }
   ],
   "source": [
    "img_url= 'pic/dobby_online1.jpg'\n",
    "predict(img_url,'dobby')"
   ]
  },
  {
   "cell_type": "code",
   "execution_count": null,
   "metadata": {},
   "outputs": [],
   "source": []
  }
 ],
 "metadata": {
  "kernelspec": {
   "display_name": "Python 3",
   "language": "python",
   "name": "python3"
  },
  "language_info": {
   "codemirror_mode": {
    "name": "ipython",
    "version": 3
   },
   "file_extension": ".py",
   "mimetype": "text/x-python",
   "name": "python",
   "nbconvert_exporter": "python",
   "pygments_lexer": "ipython3",
   "version": "3.7.0"
  }
 },
 "nbformat": 4,
 "nbformat_minor": 4
}
