{
 "cells": [
  {
   "cell_type": "markdown",
   "metadata": {},
   "source": [
    "# ml5_ipynb Tutorial\n",
    "\n",
    "`ml5_ipynb` wraps up `ml5.js` module which is a machine learning tool implemented in Javascript. Most of functions provided by ml5.js can be implemented by `ml5_ipynb` on Jupyter interface.  \n",
    "\n",
    "ml5.js is a web-based machine learning and deep learning tool that aims to provide access to machine learning and deep learning models. Also, it is a web establishment for presenting machine learning and deep learning training processes and results. It is built on top of tensorflow.js and it can handle GPU-accelerated operations for models.\n",
    "\n",
    "The module ml5_ipynb is a Jupyter widget version of ml5.js that provides a possibility of implementing machine learning and deep learning models supported by ml5.js on Jupyter interface. The advantage of this module is to allow a bit faster training and predicting of simple models using local machine without GPU/TPU on Jupyter notebook.\n",
    "\n",
    "## Model Functionality\n",
    "\n",
    "`ml5_ipynb` currently supports five general models including neural network, pre-trained image classification, k-means, object detection, and word2vec.  \n",
    "\n",
    "- #### Neural Network  \n",
    "\n",
    "    The class of neural network supports regression and classification tasks. It also allows adding custom layers including dense, maxpooling, and convolutional layer.\n",
    "    \n",
    "- #### Pre-train Image Classification "
   ]
  },
  {
   "cell_type": "code",
   "execution_count": null,
   "metadata": {},
   "outputs": [],
   "source": []
  }
 ],
 "metadata": {
  "kernelspec": {
   "display_name": "Python 3",
   "language": "python",
   "name": "python3"
  },
  "language_info": {
   "codemirror_mode": {
    "name": "ipython",
    "version": 3
   },
   "file_extension": ".py",
   "mimetype": "text/x-python",
   "name": "python",
   "nbconvert_exporter": "python",
   "pygments_lexer": "ipython3",
   "version": "3.7.0"
  }
 },
 "nbformat": 4,
 "nbformat_minor": 4
}
